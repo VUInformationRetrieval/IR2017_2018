{
 "cells": [
  {
   "cell_type": "markdown",
   "metadata": {},
   "source": [
    "# Assignment 2: Building a Simple Search Index"
   ]
  },
  {
   "cell_type": "markdown",
   "metadata": {},
   "source": [
    "In this assignment, we will build a simple search index, which we will use later for Boolean retrieval. The assignment tasks are again at the bottom of this document."
   ]
  },
  {
   "cell_type": "markdown",
   "metadata": {},
   "source": [
    "## Loading the Data"
   ]
  },
  {
   "cell_type": "code",
   "execution_count": 1,
   "metadata": {},
   "outputs": [],
   "source": [
    "Summaries_file = 'data/aspirin__Summaries.pkl.bz2'\n",
    "Abstracts_file = 'data/aspirin__Abstracts.pkl.bz2'"
   ]
  },
  {
   "cell_type": "code",
   "execution_count": 2,
   "metadata": {},
   "outputs": [],
   "source": [
    "import pickle, bz2\n",
    "from collections import namedtuple\n",
    "\n",
    "Summaries = pickle.load( bz2.BZ2File( Summaries_file, 'rb' ) )\n",
    "\n",
    "paper = namedtuple( 'paper', ['title', 'authors', 'year', 'doi'] )\n",
    "\n",
    "for (id, paper_info) in Summaries.items():\n",
    "    Summaries[id] = paper( *paper_info )\n",
    "    \n",
    "Abstracts = pickle.load( bz2.BZ2File( Abstracts_file, 'rb' ) )"
   ]
  },
  {
   "cell_type": "markdown",
   "metadata": {},
   "source": [
    "Let's have a look at what the data looks like for our example paper:"
   ]
  },
  {
   "cell_type": "code",
   "execution_count": 3,
   "metadata": {},
   "outputs": [
    {
     "data": {
      "text/plain": [
       "paper(title='Biochemical characterization and anti-inflammatory properties of an isothiocyanate-enriched moringa (Moringa oleifera) seed extract.', authors=['Jaja-Chimedza A', 'Graf BL', 'Simmler C', 'Kim Y', 'Kuhn P', 'Pauli GF', 'Raskin I'], year=2017, doi='10.1371/journal.pone.0182658')"
      ]
     },
     "execution_count": 3,
     "metadata": {},
     "output_type": "execute_result"
    }
   ],
   "source": [
    "Summaries[28792522]"
   ]
  },
  {
   "cell_type": "code",
   "execution_count": 4,
   "metadata": {},
   "outputs": [
    {
     "data": {
      "text/plain": [
       "'Moringa oleifera Lam. is a tropical plant, used for centuries as food and traditional medicine. The aim of this study was to develop, validate and biochemically characterize an isothiocyanate-enriched moringa seed extract (MSE), and to compare the anti-inflammatory effects of MSE-containing moringa isothiocyanate-1 (MIC-1) with a curcuminoid-enriched turmeric extract (CTE), and a material further enriched in its primary phytochemical, curcumin (curcumin-enriched material; CEM). MSE was prepared by incubating ground moringa seeds with water to allow myrosinase-catalyzed enzymatic formation of bioactive MIC-1, the predominant isothiocyanate in moringa seeds. Optimization of the extraction process yielded an extract of 38.9% MIC-1. Phytochemical analysis of MSE revealed the presence of acetylated isothiocyanates, phenolic glycosides unique to moringa, flavonoids, fats and fatty acids, proteins and carbohydrates. MSE showed a reduction in the carrageenan-induced rat paw edema (33% at 500 mg/kg MIC-1) comparable to aspirin (27% at 300 mg/kg), whereas CTE did not have any significant effect. In vitro, MIC-1 at 1 μM significantly reduced the production of nitric oxide (NO) and at 5 μM, the gene expression of LPS-inducible nitric oxide synthase (iNOS) and interleukins 1β and 6 (IL-1β and IL-6), whereas CEM did not show any significant activity at all concentrations tested. MIC-1 (10μM) was also more effective at upregulating the nuclear factor (erythroid-derived 2)-like 2 (Nrf2) target genes NAD(P)H:quinone oxidoreductase 1 (NQO1), glutathione S-transferase pi 1 (GSTP1), and heme oxygenase 1 (HO1) than the CEM. Thus, in contrast to CTE and CEM, MSE and its major isothiocyanate MIC-1 displayed strong anti-inflammatory and antioxidant properties in vivo and in vitro, making them promising botanical leads for the mitigation of inflammatory-mediated chronic disorders.'"
      ]
     },
     "execution_count": 4,
     "metadata": {},
     "output_type": "execute_result"
    }
   ],
   "source": [
    "Abstracts[28792522]"
   ]
  },
  {
   "cell_type": "markdown",
   "metadata": {},
   "source": [
    "## Some Utility Functions"
   ]
  },
  {
   "cell_type": "markdown",
   "metadata": {},
   "source": [
    "We'll define some utility functions that allow us to tokenize a string into terms, perform linguistic preprocessing on a list of terms, as well as a function to display information about a paper in a nice way. Note that these tokenization and preprocessing functions are rather naive - you may have to make them smarter in a later assignment."
   ]
  },
  {
   "cell_type": "code",
   "execution_count": 5,
   "metadata": {},
   "outputs": [
    {
     "name": "stdout",
     "output_type": "stream",
     "text": [
      "['lorem', 'ipsum', 'dolor', 'sit', 'amet']\n"
     ]
    }
   ],
   "source": [
    "def tokenize(text):\n",
    "    \"\"\"\n",
    "    Function that tokenizes a string in a rather naive way. Can be extended later.\n",
    "    \"\"\"\n",
    "    return text.split(' ')\n",
    "\n",
    "def preprocess(tokens):\n",
    "    \"\"\"\n",
    "    Perform linguistic preprocessing on a list of tokens. Can be extended later.\n",
    "    \"\"\"\n",
    "    result = []\n",
    "    for token in tokens:\n",
    "        result.append(token.lower())\n",
    "    return result\n",
    "\n",
    "print(preprocess(tokenize(\"Lorem ipsum dolor sit AMET\")))"
   ]
  },
  {
   "cell_type": "code",
   "execution_count": 6,
   "metadata": {},
   "outputs": [
    {
     "data": {
      "text/html": [
       "<strong><a href=http://dx.doi.org/10.1371/journal.pone.0182658>Biochemical characterization and anti-inflammatory properties of an isothiocyanate-enriched moringa (Moringa oleifera) seed extract.</a></strong><br>2017. Jaja-Chimedza A, Graf BL, Simmler C, Kim Y, Kuhn P, Pauli GF, Raskin I<br>[ID: 28792522]"
      ],
      "text/plain": [
       "<IPython.core.display.HTML object>"
      ]
     },
     "metadata": {},
     "output_type": "display_data"
    },
    {
     "data": {
      "text/html": [
       "<strong><a href=http://dx.doi.org/10.1371/journal.pone.0182658>Biochemical characterization and anti-inflammatory properties of an isothiocyanate-enriched moringa (Moringa oleifera) seed extract.</a></strong><br>2017. Jaja-Chimedza A, Graf BL, Simmler C, Kim Y, Kuhn P, Pauli GF, Raskin I<br><small><strong>Abstract:</strong> <em>Moringa oleifera Lam. is a tropical plant, used for centuries as food and traditional medicine. The aim of this study was to develop, validate and biochemically characterize an isothiocyanate-enriched moringa seed extract (MSE), and to compare the anti-inflammatory effects of MSE-containing moringa isothiocyanate-1 (MIC-1) with a curcuminoid-enriched turmeric extract (CTE), and a material further enriched in its primary phytochemical, curcumin (curcumin-enriched material; CEM). MSE was prepared by incubating ground moringa seeds with water to allow myrosinase-catalyzed enzymatic formation of bioactive MIC-1, the predominant isothiocyanate in moringa seeds. Optimization of the extraction process yielded an extract of 38.9% MIC-1. Phytochemical analysis of MSE revealed the presence of acetylated isothiocyanates, phenolic glycosides unique to moringa, flavonoids, fats and fatty acids, proteins and carbohydrates. MSE showed a reduction in the carrageenan-induced rat paw edema (33% at 500 mg/kg MIC-1) comparable to aspirin (27% at 300 mg/kg), whereas CTE did not have any significant effect. In vitro, MIC-1 at 1 μM significantly reduced the production of nitric oxide (NO) and at 5 μM, the gene expression of LPS-inducible nitric oxide synthase (iNOS) and interleukins 1β and 6 (IL-1β and IL-6), whereas CEM did not show any significant activity at all concentrations tested. MIC-1 (10μM) was also more effective at upregulating the nuclear factor (erythroid-derived 2)-like 2 (Nrf2) target genes NAD(P)H:quinone oxidoreductase 1 (NQO1), glutathione S-transferase pi 1 (GSTP1), and heme oxygenase 1 (HO1) than the CEM. Thus, in contrast to CTE and CEM, MSE and its major isothiocyanate MIC-1 displayed strong anti-inflammatory and antioxidant properties in vivo and in vitro, making them promising botanical leads for the mitigation of inflammatory-mediated chronic disorders.</em></small><br>[ID: 28792522]"
      ],
      "text/plain": [
       "<IPython.core.display.HTML object>"
      ]
     },
     "metadata": {},
     "output_type": "display_data"
    }
   ],
   "source": [
    "from IPython.display import display, HTML\n",
    "import re\n",
    "\n",
    "def display_summary( id, show_abstract=False, show_id=True, extra_text='' ):\n",
    "    \"\"\"\n",
    "    Function for printing a paper's summary through IPython's Rich Display System.\n",
    "    Trims long author lists, and adds a link to the paper's DOI (when available).\n",
    "    \"\"\"\n",
    "    s = Summaries[id]\n",
    "    lines = []\n",
    "    title = s.title\n",
    "    if s.doi != '':\n",
    "        title = '<a href=http://dx.doi.org/%s>%s</a>' % (s.doi, title)\n",
    "    title = '<strong>' + title + '</strong>'\n",
    "    lines.append(title)\n",
    "    authors = ', '.join( s.authors[:20] ) + ('' if len(s.authors) <= 20 else ', ...')\n",
    "    lines.append(str(s.year) + '. ' + authors)\n",
    "    if (show_abstract):\n",
    "        lines.append('<small><strong>Abstract:</strong> <em>%s</em></small>' % Abstracts[id])\n",
    "    if (show_id):\n",
    "        lines.append('[ID: %d]' % id)\n",
    "    if (extra_text != ''):\n",
    "         lines.append(extra_text)\n",
    "    display( HTML('<br>'.join(lines)) )\n",
    "\n",
    "display_summary(28792522)\n",
    "display_summary(28792522, show_abstract=True)"
   ]
  },
  {
   "cell_type": "markdown",
   "metadata": {},
   "source": [
    "## Creating our first index"
   ]
  },
  {
   "cell_type": "markdown",
   "metadata": {},
   "source": [
    "We will now create an _inverted index_ based on the words in the abstracts of the papers in our dataset.\n",
    "\n",
    "We will implement our inverted index as a **Python dictionary with terms as keys and posting lists as values**. For the posting lists, instead of using Python lists and then implementing the different operations on them ourselves, we will use **Python sets** and use the predefined set operations to process these posting \"lists\". This will also ensure that each document is added at most once per term. The use of Python sets is not the most efficient solution but will work for our purposes. (As an optional additional exercise, you can try to implement the posting lists as Python lists for this and the following assignments.)\n",
    "\n",
    "Not every paper in our dataset has an abstract; we will only index papers for which an abstract is available."
   ]
  },
  {
   "cell_type": "code",
   "execution_count": 7,
   "metadata": {},
   "outputs": [],
   "source": [
    "from collections import defaultdict\n",
    "\n",
    "inverted_index = defaultdict(set)\n",
    "\n",
    "# This may take a while:\n",
    "for (id, abstract) in Abstracts.items():\n",
    "    for term in preprocess(tokenize(abstract)):\n",
    "        inverted_index[term].add(id)"
   ]
  },
  {
   "cell_type": "markdown",
   "metadata": {},
   "source": [
    "Let's see what's in the index for the example term 'network':"
   ]
  },
  {
   "cell_type": "code",
   "execution_count": 8,
   "metadata": {},
   "outputs": [
    {
     "name": "stdout",
     "output_type": "stream",
     "text": [
      "{8573952, 22148098, 21847045, 17670662, 16996875, 26856461, 28409870, 17524242, 18359317, 11076124, 7558686, 27919915, 25130541, 27069488, 7375411, 10602550, 18393143, 10577464, 26342455, 12843581, 28401726, 2522689, 24008261, 2661447, 22946893, 6800979, 26274912, 26062437, 27149936, 23831164, 23083132, 28936833, 10952836, 22517902, 24473230, 26846361, 28204189, 24931488, 17940128, 26173603, 8430245, 12916918, 19681476, 26478300, 24614630, 17714922, 26851562, 26752241, 18078964, 19122933, 18465536, 28522244, 14677771, 22978320, 25632017, 26559249, 28215062, 17205530, 26883867, 28304154, 26237215, 2238968, 15745323, 28464428, 20494125, 17279276, 28933424, 26739516, 25373502, 25717062, 20514633, 11170635, 22089038, 28842832, 16941406, 7718753, 17912165, 26660710, 28336490, 25891179, 20061035, 28681581, 27957624, 12175738, 10608000, 19862935, 28385176, 21781406, 19966367, 10740135, 26337707, 25016235, 28267439, 9212859, 26122183, 19544525, 27487187, 20346324, 23463387, 18349026, 20967400, 25795564, 17066486, 17623031, 11322360}\n"
     ]
    }
   ],
   "source": [
    "print(inverted_index['network'])"
   ]
  },
  {
   "cell_type": "markdown",
   "metadata": {},
   "source": [
    "We can now use this inverted index to answer simple one-word queries, for example to show all papers that contain the word 'netherlands':"
   ]
  },
  {
   "cell_type": "code",
   "execution_count": 9,
   "metadata": {},
   "outputs": [
    {
     "data": {
      "text/html": [
       "<strong>NSAIDs.</strong><br>2007. Gøtzsche PC<br>[ID: 19454084]"
      ],
      "text/plain": [
       "<IPython.core.display.HTML object>"
      ]
     },
     "metadata": {},
     "output_type": "display_data"
    },
    {
     "data": {
      "text/html": [
       "<strong>Anticoagulant therapy and cataract surgery.</strong><br>1989. Moll AC, van Rij G, van der Loos TL<br>[ID: 2625097]"
      ],
      "text/plain": [
       "<IPython.core.display.HTML object>"
      ]
     },
     "metadata": {},
     "output_type": "display_data"
    },
    {
     "data": {
      "text/html": [
       "<strong>The value of clopidogrel in addition to standard therapy in reducing atherothrombotic events.</strong><br>2004. Weintraub W, Jönsson B, Bertrand M<br>[ID: 15876010]"
      ],
      "text/plain": [
       "<IPython.core.display.HTML object>"
      ]
     },
     "metadata": {},
     "output_type": "display_data"
    },
    {
     "data": {
      "text/html": [
       "<strong>Cataract surgery and anticoagulants.</strong><br>1996. Koopmans SA, van Rij G<br>[ID: 9181327]"
      ],
      "text/plain": [
       "<IPython.core.display.HTML object>"
      ]
     },
     "metadata": {},
     "output_type": "display_data"
    },
    {
     "data": {
      "text/html": [
       "<strong>Low-dose aspirin in pregnancy: changes in patterns of prescription in The Netherlands.</strong><br>1993. Bremer HA, Wallenburg HC<br>[ID: 8119471]"
      ],
      "text/plain": [
       "<IPython.core.display.HTML object>"
      ]
     },
     "metadata": {},
     "output_type": "display_data"
    },
    {
     "data": {
      "text/html": [
       "<strong><a href=http://dx.doi.org/10.1093/icvts/ivu392>Anticoagulation therapy after bioprosthetic aortic valve replacement in Dutch cardiothoracic centres: acceptance of guidelines does not lead to overall implementation†.</a></strong><br>2015. Bekker MW, Noyez L, van Swieten HA<br>[ID: 25472977]"
      ],
      "text/plain": [
       "<IPython.core.display.HTML object>"
      ]
     },
     "metadata": {},
     "output_type": "display_data"
    },
    {
     "data": {
      "text/html": [
       "<strong>NSAIDs.</strong><br>2010. Gøtzsche PC<br>[ID: 21733202]"
      ],
      "text/plain": [
       "<IPython.core.display.HTML object>"
      ]
     },
     "metadata": {},
     "output_type": "display_data"
    },
    {
     "data": {
      "text/html": [
       "<strong><a href=http://dx.doi.org/10.1007/s12471-013-0496-6>Antithrombotic therapy in patients undergoing TAVI: an overview of Dutch hospitals.</a></strong><br>2014. Nijenhuis VJ, Stella PR, Baan J, Brueren BR, de Jaegere PP, den Heijer P, Hofma SH, Kievit P, Slagboom T, van den Heuvel AF, van der Kley F, van Garsse L, van Houwelingen KG, Van't Hof AW, Ten Berg JM<br>[ID: 24287807]"
      ],
      "text/plain": [
       "<IPython.core.display.HTML object>"
      ]
     },
     "metadata": {},
     "output_type": "display_data"
    }
   ],
   "source": [
    "query_word = 'netherlands'\n",
    "for i in inverted_index[query_word]:\n",
    "    display_summary(i)"
   ]
  },
  {
   "cell_type": "markdown",
   "metadata": {},
   "source": [
    "----------"
   ]
  },
  {
   "cell_type": "markdown",
   "metadata": {},
   "source": [
    "# Tasks"
   ]
  },
  {
   "cell_type": "markdown",
   "metadata": {},
   "source": [
    "**Your name:** ..."
   ]
  },
  {
   "cell_type": "markdown",
   "metadata": {},
   "source": [
    "### Task 1\n",
    "\n",
    "Construct a function called `and_query` that takes as input a single string, consisting of one or more words, and returns a list of matching documents. `and_query`, as its name suggests, should require that all query terms are present in the documents of the result list. Demonstrate the working of your function with an example (choose one that leads to fewer than 100 hits to not overblow this notebook file).\n",
    "\n",
    "(You can use the `tokenize` and `preprocess` functions we defined above to tokenize and preprocess your query. You can also exploit the fact that the posting lists are [sets](https://docs.python.org/3/library/stdtypes.html#set), which means you can easily perform set operations such as union, difference and intersect on them.)"
   ]
  },
  {
   "cell_type": "code",
   "execution_count": null,
   "metadata": {
    "scrolled": true
   },
   "outputs": [],
   "source": [
    "# Add your code here"
   ]
  },
  {
   "cell_type": "markdown",
   "metadata": {},
   "source": [
    "### Task 2\n",
    "\n",
    "Construct a second function called `or_query` that works in the same way as `and_query` you just implemented, but returns documents that contain _at least one_ of the words in the query. Demonstrate the working of this second function also with an example (again, choose one that leads to fewer than 100 hits)."
   ]
  },
  {
   "cell_type": "code",
   "execution_count": null,
   "metadata": {
    "collapsed": true
   },
   "outputs": [],
   "source": [
    "# Add your code here"
   ]
  },
  {
   "cell_type": "markdown",
   "metadata": {},
   "source": [
    "### Task 3\n",
    "\n",
    "Show how many hits the query \"to be or not to be\" returns for your two query functions (`and_query` and `or_query`)."
   ]
  },
  {
   "cell_type": "code",
   "execution_count": null,
   "metadata": {
    "collapsed": true
   },
   "outputs": [],
   "source": [
    "# Add your code here"
   ]
  },
  {
   "cell_type": "markdown",
   "metadata": {},
   "source": [
    "### Task 4\n",
    "\n",
    "Given the nature of our dataset, how many of the documents from task 3 do you think are actually about the [Shakespeare quote](https://en.wikipedia.org/wiki/To_be%2C_or_not_to_be)? What could you do to better handle such queries? (You don't have to implement this yet!)"
   ]
  },
  {
   "cell_type": "markdown",
   "metadata": {},
   "source": [
    "**Answer:** [Write your answer text here]"
   ]
  },
  {
   "cell_type": "markdown",
   "metadata": {},
   "source": [
    "### Task 5\n",
    "\n",
    "Why does `and_query('moringa seed extracts')` not return our example paper 28792522, even though it mentions moringa seed extracts in the abstract? (You do not have to implement anything to fix this yet!)"
   ]
  },
  {
   "cell_type": "markdown",
   "metadata": {},
   "source": [
    "**Answer:** [Write your answer text here]"
   ]
  },
  {
   "cell_type": "markdown",
   "metadata": {},
   "source": [
    "## Submission"
   ]
  },
  {
   "cell_type": "markdown",
   "metadata": {},
   "source": [
    "Submit the answers to the assignment as a modified version of this Notebook file (file with `.ipynb` extension) that includes your code and your answers via Canvas. Don't forget to add your name, and remember that the assignments have to be done individually and group submissions are **not allowed**."
   ]
  }
 ],
 "metadata": {
  "kernelspec": {
   "display_name": "Python 2",
   "language": "python",
   "name": "python2"
  },
  "language_info": {
   "codemirror_mode": {
    "name": "ipython",
    "version": 3
   },
   "file_extension": ".py",
   "mimetype": "text/x-python",
   "name": "python",
   "nbconvert_exporter": "python",
   "pygments_lexer": "ipython3",
   "version": "3.6.3"
  }
 },
 "nbformat": 4,
 "nbformat_minor": 1
}
