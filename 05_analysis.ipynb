{
 "cells": [
  {
   "cell_type": "markdown",
   "metadata": {},
   "source": [
    "# Assignment 5: Link Analysis"
   ]
  },
  {
   "cell_type": "markdown",
   "metadata": {},
   "source": [
    "In this assignment, we will use network-based algorithms, such as PageRank, to improve our search results. After the last assignment on evaluating IR systems, we go back to our PubMed dataset of scientific papers. In this dataset, we look at two graphs in particular: the co-authorship network and the citation network.\n",
    "\n",
    "The citation network is similar to the link network of the web: Citations are like web links pointing to other documents. We can therefore apply the same network-based ranking methods."
   ]
  },
  {
   "cell_type": "markdown",
   "metadata": {},
   "source": [
    "## Code from previous assignments"
   ]
  },
  {
   "cell_type": "code",
   "execution_count": 1,
   "metadata": {},
   "outputs": [],
   "source": [
    "import pickle, bz2\n",
    "from collections import defaultdict, namedtuple, Counter\n",
    "from math import log10, sqrt\n",
    "from IPython.display import display, HTML\n",
    "import matplotlib.pyplot as plt\n",
    "\n",
    "# show plots inline within the notebook\n",
    "%matplotlib inline\n",
    "# set plots' resolution\n",
    "plt.rcParams['savefig.dpi'] = 100"
   ]
  },
  {
   "cell_type": "code",
   "execution_count": 2,
   "metadata": {},
   "outputs": [],
   "source": [
    "Ids_file = 'data/aspirin__Ids.pkl.bz2'\n",
    "Summaries_file = 'data/aspirin__Summaries.pkl.bz2'\n",
    "Citations_file = 'data/aspirin__Citations.pkl.bz2'\n",
    "Abstracts_file = 'data/aspirin__Abstracts.pkl.bz2'\n",
    "\n",
    "Ids = pickle.load( bz2.BZ2File( Ids_file, 'rb' ) )\n",
    "Summaries = pickle.load( bz2.BZ2File( Summaries_file, 'rb' ) )\n",
    "Citations = pickle.load( bz2.BZ2File( Citations_file, 'rb' ) )\n",
    "Abstracts = pickle.load( bz2.BZ2File( Abstracts_file, 'rb' ) )\n",
    "\n",
    "paper = namedtuple( 'paper', ['title', 'authors', 'year', 'doi'] )\n",
    "\n",
    "for (id, paper_info) in Summaries.items():\n",
    "    Summaries[id] = paper( *paper_info )"
   ]
  },
  {
   "cell_type": "code",
   "execution_count": 3,
   "metadata": {},
   "outputs": [],
   "source": [
    "def display_summary( id, show_abstract=False, show_id=True, extra_text='' ):\n",
    "    \"\"\"\n",
    "    Function for printing a paper's summary through IPython's Rich Display System.\n",
    "    Trims long author lists, and adds a link to the paper's DOI (when available).\n",
    "    \"\"\"\n",
    "    s = Summaries[id]\n",
    "    lines = []\n",
    "    title = s.title\n",
    "    if s.doi != '':\n",
    "        title = '<a href=http://dx.doi.org/%s>%s</a>' % (s.doi, title)\n",
    "    title = '<strong>' + title + '</strong>'\n",
    "    lines.append(title)\n",
    "    authors = ', '.join( s.authors[:20] ) + ('' if len(s.authors) <= 20 else ', ...')\n",
    "    lines.append(str(s.year) + '. ' + authors)\n",
    "    if (show_abstract):\n",
    "        lines.append('<small><strong>Abstract:</strong> <em>%s</em></small>' % Abstracts[id])\n",
    "    if (show_id):\n",
    "        lines.append('[ID: %d]' % id)\n",
    "    if (extra_text != ''):\n",
    "         lines.append(extra_text)\n",
    "    display( HTML('<br>'.join(lines)) )"
   ]
  },
  {
   "cell_type": "code",
   "execution_count": 4,
   "metadata": {},
   "outputs": [],
   "source": [
    "def tokenize(text):\n",
    "    return text.split(' ')\n",
    "\n",
    "def preprocess(tokens):\n",
    "    result = []\n",
    "    for token in tokens:\n",
    "        result.append(token.lower())\n",
    "    return result"
   ]
  },
  {
   "cell_type": "code",
   "execution_count": 5,
   "metadata": {},
   "outputs": [],
   "source": [
    "inverted_index = defaultdict(set)\n",
    "\n",
    "for (id, abstract) in Abstracts.items():\n",
    "    for term in preprocess(tokenize(abstract)):\n",
    "        inverted_index[term].add(id)\n",
    "\n",
    "tf_matrix = defaultdict(Counter)\n",
    "\n",
    "for (doc_id, abstract) in Abstracts.items():\n",
    "    tokens = preprocess(tokenize(abstract))\n",
    "    tf_matrix[doc_id] = Counter(tokens)\n",
    "\n",
    "def tf(t,d):\n",
    "    return float(tf_matrix[d][t])\n",
    "\n",
    "def df(t):\n",
    "    return float(len(inverted_index[t]))\n",
    "\n",
    "num_documents = float(len(Abstracts))\n",
    "\n",
    "def idf(t):\n",
    "    return log10(num_documents/df(t))\n",
    "\n",
    "def tfidf(t,d):\n",
    "    return tf(t,d) * idf(t)\n",
    "\n",
    "tfidf_length_values = defaultdict(int)\n",
    "\n",
    "for (doc_id, abstract) in Abstracts.items():\n",
    "    l = 0\n",
    "    for t in tf_matrix[doc_id].keys():\n",
    "        l += tfidf(t,doc_id) ** 2\n",
    "    tfidf_length_values[doc_id] = sqrt(l)\n",
    "\n",
    "def tfidf_length(d):\n",
    "    return tfidf_length_values[d]"
   ]
  },
  {
   "cell_type": "markdown",
   "metadata": {},
   "source": [
    "## Co-authorship network"
   ]
  },
  {
   "cell_type": "markdown",
   "metadata": {},
   "source": [
    "We start by building a mapping from authors to the set of identifiers of papers they authored.  We'll be using Python's [sets](http://docs.python.org/3/library/stdtypes.html#set-types-set-frozenset) again for that purpose."
   ]
  },
  {
   "cell_type": "code",
   "execution_count": 6,
   "metadata": {},
   "outputs": [],
   "source": [
    "papers_of_author = defaultdict(set)\n",
    "\n",
    "for (id, p) in Summaries.items():\n",
    "    for a in p.authors:\n",
    "        papers_of_author[a].add(id)"
   ]
  },
  {
   "cell_type": "markdown",
   "metadata": {},
   "source": [
    "Let's try it out:"
   ]
  },
  {
   "cell_type": "code",
   "execution_count": 7,
   "metadata": {},
   "outputs": [
    {
     "data": {
      "text/plain": [
       "{16373530, 16594020, 25293633, 28792522}"
      ]
     },
     "execution_count": 7,
     "metadata": {},
     "output_type": "execute_result"
    }
   ],
   "source": [
    "papers_of_author['Raskin I']"
   ]
  },
  {
   "cell_type": "code",
   "execution_count": 8,
   "metadata": {},
   "outputs": [
    {
     "data": {
      "text/html": [
       "<strong><a href=http://dx.doi.org/10.1021/jf5026086>Anti-inflammatory activity of grains of paradise (Aframomum melegueta Schum) extract.</a></strong><br>2014. Ilic NM, Dey M, Poulev AA, Logendra S, Kuhn PE, Raskin I<br>[ID: 25293633]"
      ],
      "text/plain": [
       "<IPython.core.display.HTML object>"
      ]
     },
     "metadata": {},
     "output_type": "display_data"
    },
    {
     "data": {
      "text/html": [
       "<strong><a href=http://dx.doi.org/10.1371/journal.pone.0182658>Biochemical characterization and anti-inflammatory properties of an isothiocyanate-enriched moringa (Moringa oleifera) seed extract.</a></strong><br>2017. Jaja-Chimedza A, Graf BL, Simmler C, Kim Y, Kuhn P, Pauli GF, Raskin I<br>[ID: 28792522]"
      ],
      "text/plain": [
       "<IPython.core.display.HTML object>"
      ]
     },
     "metadata": {},
     "output_type": "display_data"
    },
    {
     "data": {
      "text/html": [
       "<strong><a href=http://dx.doi.org/10.1124/jpet.105.096511>In vitro and in vivo anti-inflammatory activity of a seed preparation containing phenethylisothiocyanate.</a></strong><br>2006. Dey M, Ribnicky D, Kurmukov AG, Raskin I<br>[ID: 16373530]"
      ],
      "text/plain": [
       "<IPython.core.display.HTML object>"
      ]
     },
     "metadata": {},
     "output_type": "display_data"
    },
    {
     "data": {
      "text/html": [
       "<strong>Regulation of heat production in the inflorescences of an Arum lily by endogenous salicylic acid.</strong><br>1989. Raskin I, Turner IM, Melander WR<br>[ID: 16594020]"
      ],
      "text/plain": [
       "<IPython.core.display.HTML object>"
      ]
     },
     "metadata": {},
     "output_type": "display_data"
    }
   ],
   "source": [
    "for id in papers_of_author['Raskin I']:\n",
    "    display_summary(id)"
   ]
  },
  {
   "cell_type": "markdown",
   "metadata": {},
   "source": [
    "We can now build a co-authorship network, that is a graph linking authors to the set of co-authors they have published with:"
   ]
  },
  {
   "cell_type": "code",
   "execution_count": 9,
   "metadata": {},
   "outputs": [],
   "source": [
    "coauthors = defaultdict(set)\n",
    "\n",
    "for p in Summaries.values():\n",
    "    for a in p.authors:\n",
    "        coauthors[a].update(p.authors)\n",
    "\n",
    "# The code above results in each author being listed as having co-authored with himself/herself.\n",
    "# We remove these self-references here:\n",
    "for (a, ca) in coauthors.items():\n",
    "    ca.remove(a)"
   ]
  },
  {
   "cell_type": "markdown",
   "metadata": {},
   "source": [
    "And let's try it out again:"
   ]
  },
  {
   "cell_type": "code",
   "execution_count": 10,
   "metadata": {},
   "outputs": [
    {
     "name": "stdout",
     "output_type": "stream",
     "text": [
      "Dey M, Kurmukov AG, Simmler C, Turner IM, Ilic NM, Kim Y, Logendra S, Melander WR, Ribnicky D, Pauli GF, Graf BL, Kuhn PE, Poulev AA, Jaja-Chimedza A, Kuhn P\n"
     ]
    }
   ],
   "source": [
    "print(', '.join( coauthors['Raskin I'] ))"
   ]
  },
  {
   "cell_type": "markdown",
   "metadata": {},
   "source": [
    "Unlike a citation or link network, the edges of this co-authorship network are not directed: There is no direction (no arrow) in the link between author 'Raskin I' and 'Dey M', for example. With our chosen implementation, each of these links in fact appears twice in our data, as we also get 'Raskin I' as co-author when we look for 'Dey M':"
   ]
  },
  {
   "cell_type": "code",
   "execution_count": 11,
   "metadata": {},
   "outputs": [
    {
     "name": "stdout",
     "output_type": "stream",
     "text": [
      "Kurmukov AG, Logendra S, Ilic NM, Raskin I, Ribnicky D, Kuhn PE, Poulev AA\n"
     ]
    }
   ],
   "source": [
    "print(', '.join( coauthors['Dey M'] ))"
   ]
  },
  {
   "cell_type": "markdown",
   "metadata": {},
   "source": [
    "With that in mind, we can calculate some basic statistics about our graph:"
   ]
  },
  {
   "cell_type": "code",
   "execution_count": 12,
   "metadata": {},
   "outputs": [
    {
     "name": "stdout",
     "output_type": "stream",
     "text": [
      "Number of nodes (authors):  107319\n",
      "Number of links (co-authorship relations):  537247\n"
     ]
    }
   ],
   "source": [
    "print('Number of nodes (authors): ', len(coauthors))\n",
    "\n",
    "# We divide by two here to account for the fact that each edge is represented twice (see above):\n",
    "coauthor_rel_count = int(sum( len(c) for c in coauthors.values() ) / 2)\n",
    "print('Number of links (co-authorship relations): ', coauthor_rel_count)"
   ]
  },
  {
   "cell_type": "markdown",
   "metadata": {},
   "source": [
    "With this data at hand, we can plot the [degree distribution](https://en.wikipedia.org/wiki/Degree_distribution) by showing the number of collaborators a scientist has published with:"
   ]
  },
  {
   "cell_type": "code",
   "execution_count": 13,
   "metadata": {},
   "outputs": [
    {
     "data": {
      "image/png": "[encoded data removed]",
      "text/plain": [
       "<matplotlib.figure.Figure at 0x7f7b38a95ac8>"
      ]
     },
     "metadata": {},
     "output_type": "display_data"
    }
   ],
   "source": [
    "plt.hist( x=[ len(ca) for ca in coauthors.values() ], bins=range(60) )\n",
    "plt.xlabel('number of co-authors')\n",
    "plt.ylabel('number of researchers')\n",
    "plt.xlim(0,51);"
   ]
  },
  {
   "cell_type": "markdown",
   "metadata": {},
   "source": [
    "Now that we have explored this network, let's move to the citation network."
   ]
  },
  {
   "cell_type": "markdown",
   "metadata": {},
   "source": [
    "## Citations network"
   ]
  },
  {
   "cell_type": "markdown",
   "metadata": {},
   "source": [
    "Next, we can look at the citation network. In contrast to the co-authorship network, the citation network is a _directed_ network, where edges can be drawn as arrows. We'll start by expanding the our data about citations into two mappings: \n",
    "\n",
    "* `papers_citing[id]`: papers citing a given paper\n",
    "* `cited_by[id]`: papers cited by a given paper (in other words: its list of references)\n",
    "\n",
    "`papers_citing` will give us the list of a node's incoming links, whereas `cited_by` will give us the list of its outgoing links."
   ]
  },
  {
   "cell_type": "code",
   "execution_count": 14,
   "metadata": {},
   "outputs": [],
   "source": [
    "papers_citing = Citations  # no changes needed, this is what we are storing already in the Citations dataset\n",
    "\n",
    "cited_by = defaultdict(list)\n",
    "\n",
    "for ref, papers_citing_ref in papers_citing.items():\n",
    "    for id in papers_citing_ref:\n",
    "        cited_by[ id ].append( ref )"
   ]
  },
  {
   "cell_type": "markdown",
   "metadata": {},
   "source": [
    "As we are dealing with a subset of the data (the papers mentioning \"aspirin\"), `papers_citing` can contain references to papers outside of our subset. On the other hand, the way we created `cited_by`, it will only contain backward references from within our dataset, meaning that it is incomplete with respect to the whole dataset. Nethertheless, we can use this citation network on our subset of aspirin-related papers to implement link analysis techniques.\n",
    "\n",
    "Let us now look at an exemlary paper, let's say the one with identifier 24130474. We can now use the `cited_by` mapping to retrieve its (incomplete) list of references:"
   ]
  },
  {
   "cell_type": "code",
   "execution_count": 15,
   "metadata": {},
   "outputs": [
    {
     "name": "stdout",
     "output_type": "stream",
     "text": [
      "77 references found for paper 17148593\n"
     ]
    },
    {
     "data": {
      "text/plain": [
       "{372242: 'Recovery of endothelial cell prostacyclin production after inhibition by low doses of aspirin.',\n",
       " 1391958: 'Antiplatelet drugs and generation of thrombin in clotting blood.',\n",
       " 1455404: 'Decreased platelet membrane fluidity due to glycation or acetylation of membrane proteins.',\n",
       " 1537105: 'High-dose aspirin inhibits shear-induced platelet reaction involving thrombin generation.',\n",
       " 1601897: 'Prostaglandin endoperoxide synthase. The aspirin acetylation region.',\n",
       " 1829277: 'Stimulation of plasmin activity by aspirin.',\n",
       " 2073296: 'Coagulation, fibrinolytic and platelet function in patients on long-term therapy with aspirin 300 mg or 1,200 mg daily compared with placebo.',\n",
       " 2529003: 'Inhibition of tissue plasminogen activator activity by aspirin in vivo and its relationship to levels of tissue plasminogen activator inhibitor antigen, plasminogen activator and their complexes.',\n",
       " 2746495: 'Aspirin acetylates fibrinogen and enhances fibrinolysis. Fibrinolytic effect is independent of changes in plasminogen activator levels.',\n",
       " 2954260: 'Investigation of the interaction of blood platelets with the coagulation system at the site of plug formation in vivo in man--effect of low-dose aspirin.',\n",
       " 3085277: 'Aspirin and venous occlusion: effects on blood fibrinolytic activity and tissue-type plasminogen activator levels.',\n",
       " 3095926: 'Acetylation of antithrombin III by aspirin.',\n",
       " 3790723: 'Inhibition of thromboxane formation in vivo and ex vivo: implications for therapy with platelet inhibitory drugs.',\n",
       " 3934784: 'Aspirin, indomethacin and dazoxiben do not affect the fibrinolytic activation induced by venous occlusion.',\n",
       " 4173352: 'In vitro acetylation of plasma proteins, enzymes and DNA by aspirin.',\n",
       " 6436696: 'Dose-related kinetics of aspirin. Presystemic acetylation of platelet cyclooxygenase.',\n",
       " 6766214: 'The effects of aspirin on megakaryocyte prostaglandin production.',\n",
       " 7511345: 'Prostacyclin is required for t-PA release after venous occlusion.',\n",
       " 7552725: 'The structural basis of aspirin activity inferred from the crystal structure of inactivated prostaglandin H2 synthase.',\n",
       " 7557498: 'Aspirin-induced conformational changes in platelet membrane in subjects with stroke.',\n",
       " 7586342: 'Cigarette smoking acutely increases platelet thrombus formation in patients with coronary artery disease taking aspirin.',\n",
       " 7974380: 'Measurement of thrombin generation in whole blood--the effect of heparin and aspirin.',\n",
       " 7974569: 'Development of aspirin resistance in persons with previous ischemic stroke.',\n",
       " 8236166: 'Two-year follow-up of aspirin responder and aspirin non responder. A pilot-study including 180 post-stroke patients.',\n",
       " 8385461: 'Effect of aspirin on conformation and dynamics of membrane proteins in platelets and erythrocytes.',\n",
       " 8696958: 'Inhibition of thrombin generation by aspirin is blunted in hypercholesterolemia.',\n",
       " 9643753: 'PlA2 polymorphism and efficacy of aspirin.',\n",
       " 9716578: 'A double-blind randomized comparison of combined aspirin and ticlopidine therapy versus aspirin or ticlopidine alone on experimental arterial thrombogenesis in humans.',\n",
       " 9763537: 'Concentration of endogenous tPA antigen in coronary artery disease: relation to thrombotic events, aspirin treatment, hyperlipidemia, and multivessel disease.',\n",
       " 9840028: 'Influence of low- and high-dose aspirin treatment on thrombin generation in whole blood.',\n",
       " 10093990: 'Cyclooxygenase-2 in human platelets as a possible factor in aspirin resistance.',\n",
       " 10100866: 'Prevention of alphaII(b)beta3 activation by non-steroidal antiinflammatory drugs.',\n",
       " 10193729: 'Inhibition of thrombin generation by simvastatin and lack of additive effects of aspirin in patients with marked hypercholesterolemia.',\n",
       " 10459913: 'Platelet glycoprotein IIIa polymorphism, aspirin, and thrombin generation.',\n",
       " 10704169: 'Platelet GP IIIa Pl(A) polymorphisms display different sensitivities to agonists.',\n",
       " 10715270: 'Aspirin.',\n",
       " 10870801: 'A low dose of aspirin (75 mg/day) lowers thrombin generation to a similar extent as a high dose of aspirin (300 mg/day).',\n",
       " 10880423: 'Endogenous tissue factor pathway inhibitor modulates thrombus formation in an in vivo model of rabbit carotid artery stenosis and endothelial injury.',\n",
       " 10931797: 'Smoking increases tissue factor expression in atherosclerotic plaques: implications for plaque thrombogenicity.',\n",
       " 10961965: 'Oxidant stress and aspirin-insensitive thromboxane biosynthesis in severe unstable angina.',\n",
       " 11054089: 'Relationship between bleeding time, aspirin and the PlA1/A2 polymorphism of platelet glycoprotein IIIa.',\n",
       " 11246536: 'Treatment with simvastatin and low-dose aspirin depresses thrombin generation in patients with coronary heart disease and borderline-high cholesterol levels.',\n",
       " 11246553: 'Time and dose dependent augmentation of inhibitory effects of abciximab by aspirin.',\n",
       " 11290593: 'Antiplatelet agents in tissue factor-induced blood coagulation.',\n",
       " 11588039: 'Blood coagulation at the site of microvascular injury: effects of low-dose aspirin.',\n",
       " 11723016: 'Pl(A2) polymorphism of beta(3) integrins is associated with enhanced thrombin generation and impaired antithrombotic action of aspirin at the site of microvascular injury.',\n",
       " 11752357: 'Cyclooxygenase inhibitors and the antiplatelet effects of aspirin.',\n",
       " 11786451: 'Collaborative meta-analysis of randomised trials of antiplatelet therapy for prevention of death, myocardial infarction, and stroke in high risk patients.',\n",
       " 11940542: 'Aspirin-resistant thromboxane biosynthesis and the risk of myocardial infarction, stroke, or cardiovascular death in patients at high risk for cardiovascular events.',\n",
       " 12010797: 'Platelet-erythrocyte interactions enhance alpha(IIb)beta(3) integrin receptor activation and P-selectin expression during platelet recruitment: down-regulation by aspirin ex vivo.',\n",
       " 12045164: 'Prevention of inflammation-induced endothelial dysfunction: a novel vasculo-protective action of aspirin.',\n",
       " 12515735: 'Aspirin alters the cardioprotective effects of the factor XIII Val34Leu polymorphism.',\n",
       " 12527994: 'Aspirin non-responder status in patients with recurrent cerebral ischemic attacks.',\n",
       " 12545150: 'Genetic variation in cyclooxygenase 1: effects on response to aspirin.',\n",
       " 12586130: 'Aspirin non-responsiveness as measured by PFA-100 in patients with coronary artery disease.',\n",
       " 12598144: 'Effect of ibuprofen on cardioprotective effect of aspirin.',\n",
       " 12651041: 'A prospective, blinded determination of the natural history of aspirin resistance among stable patients with cardiovascular disease.',\n",
       " 12652150: 'Aspirin resistance and genetic polymorphisms.',\n",
       " 12742982: 'Interleukin-7-mediated inflammation in unstable angina: possible role of chemokines and platelets.',\n",
       " 12853707: 'Calibrated automated thrombin generation measurement in clotting plasma.',\n",
       " 12911581: 'Aspirin resistance: definition, mechanisms and clinical read-outs.',\n",
       " 12939216: 'Inhibition of clinical benefits of aspirin on first myocardial infarction by nonsteroidal antiinflammatory drugs.',\n",
       " 12941023: 'The discovery of the antiplatelet effect of aspirin: a personal reminiscence.',\n",
       " 14592854: 'Cyclooxygenase-2 expression and inhibition in atherothrombosis.',\n",
       " 15028353: 'Inhibition of platelet aggregation by aspirin progressively decreases in long-term treated patients.',\n",
       " 15028378: 'Aspirin resistance is associated with a high incidence of myonecrosis after non-urgent percutaneous coronary intervention despite clopidogrel pretreatment.',\n",
       " 15583721: 'Aspirin and coronary artery disease.',\n",
       " 15604423: 'Biological assessment of aspirin efficacy on healthy individuals: heterogeneous response or aspirin failure?',\n",
       " 15703034: 'Variability in response to aspirin: do we understand the clinical relevance?',\n",
       " 15738456: 'Narrative review: aspirin resistance and its clinical implications.',\n",
       " 15757620: 'Aspirin resistance and a single gene.',\n",
       " 15820166: 'Compliance as a critical consideration in patients who appear to be resistant to aspirin after healing of myocardial infarction.',\n",
       " 15892858: 'Aspirin resistance: position paper of the Working Group on Aspirin Resistance.',\n",
       " 16150050: 'Cyclooxygenase-1 haplotype modulates platelet response to aspirin.',\n",
       " 16168280: 'Aspirin resistance and atherothrombotic disease.',\n",
       " 16395396: 'Biological basis for the cardiovascular consequences of COX-2 inhibition: therapeutic challenges and opportunities.',\n",
       " 16469511: 'Aspirin \"resistance\".'}"
      ]
     },
     "execution_count": 15,
     "metadata": {},
     "output_type": "execute_result"
    }
   ],
   "source": [
    "paper_id = 17148593\n",
    "refs = { id : Summaries[id].title for id in cited_by[paper_id] }\n",
    "print(len(refs), 'references found for paper', paper_id)\n",
    "refs"
   ]
  },
  {
   "cell_type": "markdown",
   "metadata": {},
   "source": [
    "If we lookup the same paper in `papers_citing`, we now see that some of the cited papers are themselves in our dataset, but others are not (shown below as `'??'`):"
   ]
  },
  {
   "cell_type": "code",
   "execution_count": 16,
   "metadata": {},
   "outputs": [
    {
     "data": {
      "text/plain": [
       "{18931343: '??',\n",
       " 21747067: '??',\n",
       " 22148098: 'High-dose aspirin is required to influence plasma fibrin network structure in patients with type 1 diabetes.',\n",
       " 22883224: 'Markers of hypercoagulability in CAD patients. Effects of single aspirin and clopidogrel treatment.',\n",
       " 23392340: 'Evaluation of optical coherence tomography for the measurement of the effects of activators and anticoagulants on the blood coagulation in vitro.',\n",
       " 23626438: '??',\n",
       " 24178511: '??',\n",
       " 24688408: '??',\n",
       " 25360605: 'Aspirin for primary prevention of cardiovascular events: meta-analysis of randomized controlled trials and subgroup analysis by sex and diabetes status.',\n",
       " 25767411: '??',\n",
       " 26015325: '??',\n",
       " 26123634: 'Aspirin and multiple sclerosis.',\n",
       " 26272940: 'Drug-Free Platelets Can Act as Seeds for Aggregate Formation During Antiplatelet Therapy.',\n",
       " 26457127: '??',\n",
       " 26503669: 'New formulation of old aspirin for better delivery.',\n",
       " 28851981: '??'}"
      ]
     },
     "execution_count": 16,
     "metadata": {},
     "output_type": "execute_result"
    }
   ],
   "source": [
    "{ id : Summaries.get(id,['??'])[0]  for id in papers_citing[paper_id] }"
   ]
  },
  {
   "cell_type": "markdown",
   "metadata": {},
   "source": [
    "Paper 18931343, for example, is not in our dataset and we do not have any direct information about it, but its repeated occurrence in other papers' citation lists does allow us to reconstruct some of its references. Below is the list of papers in our dataset cited by that paper:"
   ]
  },
  {
   "cell_type": "code",
   "execution_count": 17,
   "metadata": {},
   "outputs": [
    {
     "name": "stdout",
     "output_type": "stream",
     "text": [
      "5 references identified for the paper with id 18931343\n"
     ]
    },
    {
     "data": {
      "text/plain": [
       "{11588039: 'Blood coagulation at the site of microvascular injury: effects of low-dose aspirin.',\n",
       " 11723016: 'Pl(A2) polymorphism of beta(3) integrins is associated with enhanced thrombin generation and impaired antithrombotic action of aspirin at the site of microvascular injury.',\n",
       " 17148593: 'Antithrombotic properties of aspirin and resistance to aspirin: beyond strictly antiplatelet actions.',\n",
       " 17642204: '[The thrombin generation is associated with the PIA1/A2 beta3, integrin polymorphism in aspirin-treated patients with coronary artery disease: a role of statins].',\n",
       " 17944993: 'Thrombin generation in acute coronary syndrome and stable coronary artery disease: dependence on plasma factor composition.'}"
      ]
     },
     "execution_count": 17,
     "metadata": {},
     "output_type": "execute_result"
    }
   ],
   "source": [
    "paper_id2 = 18931343\n",
    "refs2 = { id : Summaries[id].title for id in cited_by[paper_id2] }\n",
    "print(len(refs2), 'references identified for the paper with id', paper_id2)\n",
    "refs2"
   ]
  },
  {
   "cell_type": "markdown",
   "metadata": {},
   "source": [
    "Now that we have a better understanding about the data we're dealing with, let us obtain again some basic statistics about our graph."
   ]
  },
  {
   "cell_type": "code",
   "execution_count": 18,
   "metadata": {},
   "outputs": [
    {
     "name": "stdout",
     "output_type": "stream",
     "text": [
      "Number of papers in our subset: 43593 (100.00 %)\n",
      "Number of papers cited at least once: 26024 (59.70 %)\n",
      "Number of isolated nodes: 16323 (37.44 %)\n"
     ]
    }
   ],
   "source": [
    "n = len(Ids)\n",
    "print('Number of papers in our subset: %d (%.2f %%)' % (n, 100.0) )\n",
    "\n",
    "with_citation = [ id for id in Ids if papers_citing[id] != [] ]\n",
    "with_citation_rel = 100. * len(with_citation) / n\n",
    "print('Number of papers cited at least once: %d (%.2f %%)' % (len(with_citation), with_citation_rel) )\n",
    "\n",
    "isolated = set( id for id in Ids if papers_citing[id] == [] and id not in cited_by )\n",
    "isolated_rel = 100. * len(isolated) / n\n",
    "print('Number of isolated nodes: %d (%.2f %%)' % (len(isolated), isolated_rel) )"
   ]
  },
  {
   "cell_type": "code",
   "execution_count": 19,
   "metadata": {},
   "outputs": [
    {
     "name": "stdout",
     "output_type": "stream",
     "text": [
      "Overall number of nodes: 139394 (100.00 %)\n",
      "Number of non-isolated nodes: 123071 (88.29 %)\n",
      "Number of nodes outside our subset: 95801 (68.73 %)\n"
     ]
    }
   ],
   "source": [
    "id_set = set( Ids )\n",
    "citing_set = set( cited_by.keys() )\n",
    "\n",
    "outsiders = citing_set - id_set   # set difference\n",
    "nodes = citing_set | id_set   # set union\n",
    "non_isolated = nodes - isolated   # set difference\n",
    "\n",
    "print('Overall number of nodes: %d (%.2f %%)' % (len(nodes), 100.0) )\n",
    "\n",
    "non_isolated_rel = 100. * len(non_isolated) / len(nodes)\n",
    "print('Number of non-isolated nodes: %d (%.2f %%)' % (len(non_isolated), non_isolated_rel) )\n",
    "\n",
    "outsiders_rel = 100. * len(outsiders) / len(nodes)\n",
    "print('Number of nodes outside our subset: %d (%.2f %%)' % ( len(outsiders), outsiders_rel ) )"
   ]
  },
  {
   "cell_type": "code",
   "execution_count": 20,
   "metadata": {},
   "outputs": [
    {
     "name": "stdout",
     "output_type": "stream",
     "text": [
      "Overal number of links (citations): 216299 (100.00 %)\n",
      "Citations from outside the subset: 172418 (79.71 %)\n"
     ]
    }
   ],
   "source": [
    "all_citations = [ c for citing in papers_citing.values() for c in citing ]\n",
    "outsider_citations = [ c for citing in papers_citing.values() for c in citing if c in outsiders ]\n",
    "\n",
    "print('Overal number of links (citations): %d (%.2f %%)' % (len(all_citations), 100.0) )\n",
    "\n",
    "outsider_citations_rel = 100. * len(outsider_citations) / len(all_citations)\n",
    "print('Citations from outside the subset: %d (%.2f %%)' % (len(outsider_citations), outsider_citations_rel) )"
   ]
  },
  {
   "cell_type": "markdown",
   "metadata": {},
   "source": [
    "Let us now find our which 10 papers are the most cited in our dataset."
   ]
  },
  {
   "cell_type": "code",
   "execution_count": 21,
   "metadata": {},
   "outputs": [
    {
     "data": {
      "text/html": [
       "<strong>Inhibition of prostaglandin synthesis as a mechanism of action for aspirin-like drugs.</strong><br>1971. Vane JR<br>[ID: 5284360]<br>Citation count: 859"
      ],
      "text/plain": [
       "<IPython.core.display.HTML object>"
      ]
     },
     "metadata": {},
     "output_type": "display_data"
    },
    {
     "data": {
      "text/html": [
       "<strong><a href=http://dx.doi.org/10.1056/NEJMoa1107039>Apixaban versus warfarin in patients with atrial fibrillation.</a></strong><br>2011. Granger CB, Alexander JH, McMurray JJ, Lopes RD, Hylek EM, Hanna M, Al-Khalidi HR, Ansell J, Atar D, Avezum A, Bahit MC, Diaz R, Easton JD, Ezekowitz JA, Flaker G, Garcia D, Geraldes M, Gersh BJ, Golitsyn S, Goto S, ...<br>[ID: 21870978]<br>Citation count: 653"
      ],
      "text/plain": [
       "<IPython.core.display.HTML object>"
      ]
     },
     "metadata": {},
     "output_type": "display_data"
    },
    {
     "data": {
      "text/html": [
       "<strong>Collaborative meta-analysis of randomised trials of antiplatelet therapy for prevention of death, myocardial infarction, and stroke in high risk patients.</strong><br>2002. Antithrombotic Trialists' Collaboration.<br>[ID: 11786451]<br>Citation count: 642"
      ],
      "text/plain": [
       "<IPython.core.display.HTML object>"
      ]
     },
     "metadata": {},
     "output_type": "display_data"
    },
    {
     "data": {
      "text/html": [
       "<strong><a href=http://dx.doi.org/10.1056/NEJM199704033361401>Inflammation, aspirin, and the risk of cardiovascular disease in apparently healthy men.</a></strong><br>1997. Ridker PM, Cushman M, Stampfer MJ, Tracy RP, Hennekens CH<br>[ID: 9077376]<br>Citation count: 529"
      ],
      "text/plain": [
       "<IPython.core.display.HTML object>"
      ]
     },
     "metadata": {},
     "output_type": "display_data"
    },
    {
     "data": {
      "text/html": [
       "<strong><a href=http://dx.doi.org/10.1056/NEJMoa021778>Multifactorial intervention and cardiovascular disease in patients with type 2 diabetes.</a></strong><br>2003. Gaede P, Vedel P, Larsen N, Jensen GV, Parving HH, Pedersen O<br>[ID: 12556541]<br>Citation count: 511"
      ],
      "text/plain": [
       "<IPython.core.display.HTML object>"
      ]
     },
     "metadata": {},
     "output_type": "display_data"
    },
    {
     "data": {
      "text/html": [
       "<strong><a href=http://dx.doi.org/10.1056/NEJMoa010746>Effects of clopidogrel in addition to aspirin in patients with acute coronary syndromes without ST-segment elevation.</a></strong><br>2001. Yusuf S, Zhao F, Mehta SR, Chrolavicius S, Tognoni G, Fox KK, Clopidogrel in Unstable Angina to Prevent Recurrent Events Trial Investigators.<br>[ID: 11519503]<br>Citation count: 499"
      ],
      "text/plain": [
       "<IPython.core.display.HTML object>"
      ]
     },
     "metadata": {},
     "output_type": "display_data"
    },
    {
     "data": {
      "text/html": [
       "<strong><a href=http://dx.doi.org/10.1056/NEJMoa0706245>Effect of a multifactorial intervention on mortality in type 2 diabetes.</a></strong><br>2008. Gaede P, Lund-Andersen H, Parving HH, Pedersen O<br>[ID: 18256393]<br>Citation count: 489"
      ],
      "text/plain": [
       "<IPython.core.display.HTML object>"
      ]
     },
     "metadata": {},
     "output_type": "display_data"
    },
    {
     "data": {
      "text/html": [
       "<strong><a href=http://dx.doi.org/10.1378/chest.08-0656>Prevention of venous thromboembolism: American College of Chest Physicians Evidence-Based Clinical Practice Guidelines (8th Edition).</a></strong><br>2008. Geerts WH, Bergqvist D, Pineo GF, Heit JA, Samama CM, Lassen MR, Colwell CW<br>[ID: 18574271]<br>Citation count: 475"
      ],
      "text/plain": [
       "<IPython.core.display.HTML object>"
      ]
     },
     "metadata": {},
     "output_type": "display_data"
    },
    {
     "data": {
      "text/html": [
       "<strong><a href=http://dx.doi.org/10.1146/annurev.biochem.69.1.145>Cyclooxygenases: structural, cellular, and molecular biology.</a></strong><br>2000. Smith WL, DeWitt DL, Garavito RM<br>[ID: 10966456]<br>Citation count: 455"
      ],
      "text/plain": [
       "<IPython.core.display.HTML object>"
      ]
     },
     "metadata": {},
     "output_type": "display_data"
    },
    {
     "data": {
      "text/html": [
       "<strong>Effects of intensive blood-pressure lowering and low-dose aspirin in patients with hypertension: principal results of the Hypertension Optimal Treatment (HOT) randomised trial. HOT Study Group.</strong><br>1998. Hansson L, Zanchetti A, Carruthers SG, Dahlöf B, Elmfeldt D, Julius S, Ménard J, Rahn KH, Wedel H, Westerling S<br>[ID: 9635947]<br>Citation count: 454"
      ],
      "text/plain": [
       "<IPython.core.display.HTML object>"
      ]
     },
     "metadata": {},
     "output_type": "display_data"
    }
   ],
   "source": [
    "citation_count_per_paper = [ (id, len(citations)) for (id,citations) in papers_citing.items() ]\n",
    "sorted_by_citation_count = sorted(citation_count_per_paper, key=lambda i:i[1], reverse=True)\n",
    "\n",
    "for (id, c) in sorted_by_citation_count[:10]:\n",
    "    display_summary(id, extra_text = 'Citation count: ' + str(c))"
   ]
  },
  {
   "cell_type": "markdown",
   "metadata": {},
   "source": [
    "Before we can start calculating some interesting network metrics, we will first have a closer look at the Python package that we are going to use for that."
   ]
  },
  {
   "cell_type": "markdown",
   "metadata": {},
   "source": [
    "## Link Analysis for Search Engines"
   ]
  },
  {
   "cell_type": "markdown",
   "metadata": {},
   "source": [
    "In order to use the citation network, we need to be able to perform some complex graph algorithms on it. To make our lives easier, we will use [NetworkX](https://pypi.python.org/pypi/networkx), a Python package for dealing with complex networks. You might have to [install the NetworkX package](https://pypi.python.org/pypi/networkx) first."
   ]
  },
  {
   "cell_type": "code",
   "execution_count": 22,
   "metadata": {},
   "outputs": [],
   "source": [
    "import networkx as nx\n",
    "\n",
    "G = nx.DiGraph(cited_by)"
   ]
  },
  {
   "cell_type": "markdown",
   "metadata": {},
   "source": [
    "We now have a NetworkX Directed Graph stored in `G`, where a node represents a paper, and an edge represents a citation. This means we can now apply the [algorithms](http://networkx.github.io/documentation/networkx-1.10/reference/algorithms.html) and [functions](http://networkx.github.io/documentation/networkx-1.10/reference/functions.html) of NetworkX to our graph:"
   ]
  },
  {
   "cell_type": "code",
   "execution_count": 23,
   "metadata": {},
   "outputs": [
    {
     "name": "stdout",
     "output_type": "stream",
     "text": [
      "Name: \n",
      "Type: DiGraph\n",
      "Number of nodes: 123071\n",
      "Number of edges: 216299\n",
      "Average in degree:   1.7575\n",
      "Average out degree:   1.7575\n",
      "Directed graph: True\n",
      "Density of graph: 1.4280604171277336e-05\n"
     ]
    }
   ],
   "source": [
    "print(nx.info(G))\n",
    "print('Directed graph:', nx.is_directed(G))\n",
    "print('Density of graph:', nx.density(G))"
   ]
  },
  {
   "cell_type": "markdown",
   "metadata": {},
   "source": [
    "As this graph was generated from citations only, we need to add all isolated nodes (nodes that are not cited and do not cite other papers) as well:"
   ]
  },
  {
   "cell_type": "code",
   "execution_count": 24,
   "metadata": {},
   "outputs": [],
   "source": [
    "G.add_nodes_from(isolated)"
   ]
  },
  {
   "cell_type": "markdown",
   "metadata": {},
   "source": [
    "And now we get slightly different values:"
   ]
  },
  {
   "cell_type": "code",
   "execution_count": 25,
   "metadata": {},
   "outputs": [
    {
     "name": "stdout",
     "output_type": "stream",
     "text": [
      "Name: \n",
      "Type: DiGraph\n",
      "Number of nodes: 139394\n",
      "Number of edges: 216299\n",
      "Average in degree:   1.5517\n",
      "Average out degree:   1.5517\n",
      "Directed graph: True\n",
      "Density of graph: 1.1131904347671558e-05\n"
     ]
    }
   ],
   "source": [
    "print(nx.info(G))\n",
    "print('Directed graph:', nx.is_directed(G))\n",
    "print('Density of graph:', nx.density(G))"
   ]
  },
  {
   "cell_type": "markdown",
   "metadata": {},
   "source": [
    "Now we are ready to use this package for our tasks."
   ]
  },
  {
   "cell_type": "markdown",
   "metadata": {},
   "source": [
    "----------"
   ]
  },
  {
   "cell_type": "markdown",
   "metadata": {},
   "source": [
    "# Tasks"
   ]
  },
  {
   "cell_type": "markdown",
   "metadata": {},
   "source": [
    "**Your name:** ..."
   ]
  },
  {
   "cell_type": "markdown",
   "metadata": {},
   "source": [
    "### Task 1\n",
    "\n",
    "Plot the in-degree distribution (that is, the distribution of the number of incoming links; see [here](https://en.wikipedia.org/wiki/Degree_distribution) and [here](http://mathinsight.org/degree_distribution) for more detailed explanations) for the citation network. What can you tell about the shape of this distribution, and what does this tell us about the network?"
   ]
  },
  {
   "cell_type": "code",
   "execution_count": null,
   "metadata": {},
   "outputs": [],
   "source": [
    "# Add your code here"
   ]
  },
  {
   "cell_type": "markdown",
   "metadata": {},
   "source": [
    "**Answer:** [_Write your answer text here_]"
   ]
  },
  {
   "cell_type": "markdown",
   "metadata": {},
   "source": [
    "### Task 2\n",
    "\n",
    "Using the [Link Analysis](https://networkx.github.io/documentation/networkx-1.10/reference/algorithms.link_analysis.html) algorithms provided by NetworkX, calculate the PageRank score for all nodes in the citation network, and store the result in a variable called `pageranks`. Print out the PageRank values for the two example papers given below.\n",
    "You can also use the `pagerank_scipy` implementation, which tends to be considerably faster than its regular `pagerank` counterpart (but you have to install the [SciPy package](http://scipy.org/) for that). To print and compare PageRank values, you might want to use commands like `print('%.6f' % var)` to use regular decimal notation with a fixed number of decimal places."
   ]
  },
  {
   "cell_type": "code",
   "execution_count": null,
   "metadata": {},
   "outputs": [],
   "source": [
    "# Add your code here:\n",
    "#pageranks = ...\n",
    "\n",
    "# print PageRank for paper 16869801\n",
    "# print PageRank for paper 21628697"
   ]
  },
  {
   "cell_type": "markdown",
   "metadata": {},
   "source": [
    "### Task 3\n",
    "\n",
    "Why do the two papers above have such different PageRank values? Write code below to investigate and show the cause of this, and then explain the cause of this difference based on the results generated by your code."
   ]
  },
  {
   "cell_type": "code",
   "execution_count": null,
   "metadata": {},
   "outputs": [],
   "source": [
    "# Add your code here"
   ]
  },
  {
   "cell_type": "markdown",
   "metadata": {
    "collapsed": true
   },
   "source": [
    "**Answer:** [_Write your answer text here_]"
   ]
  },
  {
   "cell_type": "markdown",
   "metadata": {},
   "source": [
    "### Task 4\n",
    "\n",
    "Copy the scoring function `score_ntn` from Task 4 of assignment 3. Rename it to `score_ntn_pagerank` and change its code to incorporate a paper's PageRank score in it's final score, in addition to tf-idf. In other words, the new function should accept a `list` of query tokens and a document ID, and should return a single `float` value that is calculated based on both scores (PageRank and tf-idf). Note that a `tf-idf` function is already provided above. Explain your decision on how to combine the two scores."
   ]
  },
  {
   "cell_type": "code",
   "execution_count": null,
   "metadata": {},
   "outputs": [],
   "source": [
    "# Add your code here"
   ]
  },
  {
   "cell_type": "markdown",
   "metadata": {
    "collapsed": true
   },
   "source": [
    "**Answer:** [_Write your answer text here_]"
   ]
  },
  {
   "cell_type": "markdown",
   "metadata": {},
   "source": [
    "### Task 5\n",
    "\n",
    "Copy the query function `query_ntn` from Task 4 of assignment 3. Rename it to `query_ntn_pagerank` and change the code to use our new scoring function `score_ntn_pagerank` from task 4 above. Demonstrate these functions with an example query that returns our paper 16869801 from above as the top result."
   ]
  },
  {
   "cell_type": "code",
   "execution_count": null,
   "metadata": {},
   "outputs": [],
   "source": [
    "# Add your code here"
   ]
  }
 ],
 "metadata": {
  "kernelspec": {
   "display_name": "Python 2",
   "language": "python",
   "name": "python2"
  },
  "language_info": {
   "codemirror_mode": {
    "name": "ipython",
    "version": 3
   },
   "file_extension": ".py",
   "mimetype": "text/x-python",
   "name": "python",
   "nbconvert_exporter": "python",
   "pygments_lexer": "ipython3",
   "version": "3.6.3"
  }
 },
 "nbformat": 4,
 "nbformat_minor": 1
}
