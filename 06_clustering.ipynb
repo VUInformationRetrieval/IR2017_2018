{
 "cells": [
  {
   "cell_type": "markdown",
   "metadata": {},
   "source": [
    "# Assignment 6: Custering"
   ]
  },
  {
   "cell_type": "markdown",
   "metadata": {},
   "source": [
    "**THIS ASSIGNMENT IS STILL WORK-IN-PROGRESS AND SUBJECT TO CHANGE!**"
   ]
  },
  {
   "cell_type": "markdown",
   "metadata": {},
   "source": [
    "[TODO: text]"
   ]
  },
  {
   "cell_type": "markdown",
   "metadata": {},
   "source": [
    "## Code from previous assignments"
   ]
  },
  {
   "cell_type": "code",
   "execution_count": 1,
   "metadata": {},
   "outputs": [],
   "source": [
    "import pickle, bz2\n",
    "from collections import defaultdict, namedtuple, Counter\n",
    "from math import log10, sqrt\n",
    "from IPython.display import display, HTML\n",
    "import matplotlib.pyplot as plt\n",
    "\n",
    "# show plots inline within the notebook\n",
    "%matplotlib inline\n",
    "# set plots' resolution\n",
    "plt.rcParams['savefig.dpi'] = 100"
   ]
  },
  {
   "cell_type": "code",
   "execution_count": 2,
   "metadata": {},
   "outputs": [],
   "source": [
    "Ids_file = 'data/aspirin__Ids.pkl.bz2'\n",
    "Summaries_file = 'data/aspirin__Summaries.pkl.bz2'\n",
    "Abstracts_file = 'data/aspirin__Abstracts.pkl.bz2'\n",
    "\n",
    "Ids = pickle.load( bz2.BZ2File( Ids_file, 'rb' ) )\n",
    "Summaries = pickle.load( bz2.BZ2File( Summaries_file, 'rb' ) )\n",
    "Abstracts = pickle.load( bz2.BZ2File( Abstracts_file, 'rb' ) )\n",
    "\n",
    "paper = namedtuple( 'paper', ['title', 'authors', 'year', 'doi'] )\n",
    "\n",
    "for (id, paper_info) in Summaries.items():\n",
    "    Summaries[id] = paper( *paper_info )"
   ]
  },
  {
   "cell_type": "code",
   "execution_count": 3,
   "metadata": {},
   "outputs": [],
   "source": [
    "def display_summary( id, show_abstract=False, show_id=True, extra_text='' ):\n",
    "    \"\"\"\n",
    "    Function for printing a paper's summary through IPython's Rich Display System.\n",
    "    Trims long author lists, and adds a link to the paper's DOI (when available).\n",
    "    \"\"\"\n",
    "    s = Summaries[id]\n",
    "    lines = []\n",
    "    title = s.title\n",
    "    if s.doi != '':\n",
    "        title = '<a href=http://dx.doi.org/%s>%s</a>' % (s.doi, title)\n",
    "    title = '<strong>' + title + '</strong>'\n",
    "    lines.append(title)\n",
    "    authors = ', '.join( s.authors[:20] ) + ('' if len(s.authors) <= 20 else ', ...')\n",
    "    lines.append(str(s.year) + '. ' + authors)\n",
    "    if (show_abstract):\n",
    "        lines.append('<small><strong>Abstract:</strong> <em>%s</em></small>' % Abstracts[id])\n",
    "    if (show_id):\n",
    "        lines.append('[ID: %d]' % id)\n",
    "    if (extra_text != ''):\n",
    "         lines.append(extra_text)\n",
    "    display( HTML('<br>'.join(lines)) )"
   ]
  },
  {
   "cell_type": "markdown",
   "metadata": {},
   "source": [
    "TODO"
   ]
  },
  {
   "cell_type": "code",
   "execution_count": 4,
   "metadata": {},
   "outputs": [],
   "source": [
    "chars = set('abcdefghijklmnopqrstuvwxy ABCDEFGHIJKLMNOPQRSTUVWXYZ')\n",
    "\n",
    "def tokenize(text):\n",
    "    return ''.join(filter(chars.__contains__, text)).split(' ')\n",
    "\n",
    "def preprocess(tokens):\n",
    "    result = []\n",
    "    for token in tokens:\n",
    "        result.append(token.lower())\n",
    "    return result"
   ]
  },
  {
   "cell_type": "code",
   "execution_count": 5,
   "metadata": {},
   "outputs": [],
   "source": [
    "inverted_index = defaultdict(set)\n",
    "\n",
    "for (id, abstract) in Abstracts.items():\n",
    "    for term in preprocess(tokenize(abstract)):\n",
    "        inverted_index[term].add(id)\n",
    "\n",
    "term_list = list(inverted_index.keys())"
   ]
  },
  {
   "cell_type": "code",
   "execution_count": 6,
   "metadata": {},
   "outputs": [],
   "source": [
    "tf_matrix = defaultdict(Counter)\n",
    "\n",
    "for (doc_id, abstract) in Abstracts.items():\n",
    "    tokens = preprocess(tokenize(abstract))\n",
    "    tf_matrix[doc_id] = Counter(tokens)\n",
    "\n",
    "def tf(t,d):\n",
    "    return float(tf_matrix[d][t])\n",
    "\n",
    "def df(t):\n",
    "    return float(len(inverted_index[t]))\n",
    "    \n",
    "num_documents = float(len(Abstracts))\n",
    "\n",
    "def tfidf(t,d):\n",
    "    return tf(t,d) * log10(num_documents/df(t))\n",
    "\n",
    "tfidf_length_values = defaultdict(int)\n",
    "\n",
    "for (doc_id, abstract) in Abstracts.items():\n",
    "    l = 0\n",
    "    for t in tf_matrix[doc_id].keys():\n",
    "        l += tfidf(t,doc_id) ** 2\n",
    "    tfidf_length_values[doc_id] = sqrt(l)\n",
    "\n",
    "def tfidf_length(d):\n",
    "    return tfidf_length_values[d]"
   ]
  },
  {
   "cell_type": "code",
   "execution_count": 7,
   "metadata": {},
   "outputs": [
    {
     "name": "stdout",
     "output_type": "stream",
     "text": [
      "76653\n"
     ]
    }
   ],
   "source": [
    "print(len(term_list))"
   ]
  },
  {
   "cell_type": "code",
   "execution_count": 8,
   "metadata": {},
   "outputs": [
    {
     "name": "stdout",
     "output_type": "stream",
     "text": [
      "5020\n"
     ]
    }
   ],
   "source": [
    "short_term_list = [t for t in term_list if (len(inverted_index[t]) > 50 and len(inverted_index[t]) < 0.1*num_documents)]\n",
    "print(len(short_term_list))"
   ]
  },
  {
   "cell_type": "code",
   "execution_count": 9,
   "metadata": {},
   "outputs": [],
   "source": [
    "import numpy as np\n",
    "import lda\n",
    "import lda.datasets"
   ]
  },
  {
   "cell_type": "code",
   "execution_count": 10,
   "metadata": {},
   "outputs": [],
   "source": [
    "doc_term_matrix = np.zeros((len(Abstracts), len(short_term_list)), np.bool_)\n",
    "doc_list = [id for (id, abstract) in Abstracts.items()]\n",
    "\n",
    "for d in range(0,len(doc_list)):\n",
    "    for i in range(0,len(short_term_list)):\n",
    "        if (doc_list[d] in inverted_index[short_term_list[i]]):\n",
    "            doc_term_matrix[d,i] = True"
   ]
  },
  {
   "cell_type": "code",
   "execution_count": 11,
   "metadata": {},
   "outputs": [
    {
     "name": "stderr",
     "output_type": "stream",
     "text": [
      "INFO:lda:n_documents: 43542\n",
      "INFO:lda:vocab_size: 5020\n",
      "INFO:lda:n_words: 1836872\n",
      "INFO:lda:n_topics: 10\n",
      "INFO:lda:n_iter: 500\n",
      "WARNING:lda:all zero row in document-term matrix found\n",
      "INFO:lda:<0> log likelihood: -19594045\n",
      "INFO:lda:<10> log likelihood: -16227338\n",
      "INFO:lda:<20> log likelihood: -15465971\n",
      "INFO:lda:<30> log likelihood: -15154068\n",
      "INFO:lda:<40> log likelihood: -15008270\n",
      "INFO:lda:<50> log likelihood: -14946161\n",
      "INFO:lda:<60> log likelihood: -14912860\n",
      "INFO:lda:<70> log likelihood: -14893455\n",
      "INFO:lda:<80> log likelihood: -14882638\n",
      "INFO:lda:<90> log likelihood: -14877779\n",
      "INFO:lda:<100> log likelihood: -14870883\n",
      "INFO:lda:<110> log likelihood: -14868090\n",
      "INFO:lda:<120> log likelihood: -14865586\n",
      "INFO:lda:<130> log likelihood: -14862824\n",
      "INFO:lda:<140> log likelihood: -14862720\n",
      "INFO:lda:<150> log likelihood: -14861505\n",
      "INFO:lda:<160> log likelihood: -14859447\n",
      "INFO:lda:<170> log likelihood: -14858684\n",
      "INFO:lda:<180> log likelihood: -14855308\n",
      "INFO:lda:<190> log likelihood: -14854611\n",
      "INFO:lda:<200> log likelihood: -14853049\n",
      "INFO:lda:<210> log likelihood: -14855797\n",
      "INFO:lda:<220> log likelihood: -14853465\n",
      "INFO:lda:<230> log likelihood: -14853840\n",
      "INFO:lda:<240> log likelihood: -14853025\n",
      "INFO:lda:<250> log likelihood: -14851864\n",
      "INFO:lda:<260> log likelihood: -14855836\n",
      "INFO:lda:<270> log likelihood: -14852782\n",
      "INFO:lda:<280> log likelihood: -14854371\n",
      "INFO:lda:<290> log likelihood: -14851144\n",
      "INFO:lda:<300> log likelihood: -14854526\n",
      "INFO:lda:<310> log likelihood: -14855562\n",
      "INFO:lda:<320> log likelihood: -14854142\n",
      "INFO:lda:<330> log likelihood: -14850420\n",
      "INFO:lda:<340> log likelihood: -14853217\n",
      "INFO:lda:<350> log likelihood: -14851565\n",
      "INFO:lda:<360> log likelihood: -14852815\n",
      "INFO:lda:<370> log likelihood: -14851905\n",
      "INFO:lda:<380> log likelihood: -14848295\n",
      "INFO:lda:<390> log likelihood: -14849788\n",
      "INFO:lda:<400> log likelihood: -14849230\n",
      "INFO:lda:<410> log likelihood: -14850863\n",
      "INFO:lda:<420> log likelihood: -14849564\n",
      "INFO:lda:<430> log likelihood: -14848649\n",
      "INFO:lda:<440> log likelihood: -14849788\n",
      "INFO:lda:<450> log likelihood: -14850756\n",
      "INFO:lda:<460> log likelihood: -14849532\n",
      "INFO:lda:<470> log likelihood: -14853739\n",
      "INFO:lda:<480> log likelihood: -14848075\n",
      "INFO:lda:<490> log likelihood: -14851458\n",
      "INFO:lda:<499> log likelihood: -14851904\n"
     ]
    }
   ],
   "source": [
    "model = lda.LDA(n_topics=10, n_iter=500, random_state=1)\n",
    "model.fit(doc_term_matrix);"
   ]
  },
  {
   "cell_type": "code",
   "execution_count": 12,
   "metadata": {},
   "outputs": [
    {
     "name": "stdout",
     "output_type": "stream",
     "text": [
      "Topic 0: patient case syndrome pregnancy yearold report treated\n",
      "Topic 1: cells cell activity human expression cyclooxygenase role\n",
      "Topic 2: should evidence agents nonsteroidal review some trials\n",
      "Topic 3: cardiovascular diabetes factors age among infarction years\n",
      "Topic 4: aggregation platelets inhibition thromboxane inhibited induced blood\n",
      "Topic 5: gastric rats mgkg induced administration mucosal activity\n",
      "Topic 6: asthma chronic response nasal function resistance respiratory\n",
      "Topic 7: artery surgery myocardial infarction heparin thrombosis bypass\n",
      "Topic 8: clopidogrel stroke prevention ischemic bleeding antithrombotic efficacy\n",
      "Topic 9: mg p group dose groups using time\n"
     ]
    }
   ],
   "source": [
    "topic_word = model.topic_word_\n",
    "n_top_words = 8\n",
    "for i, topic_dist in enumerate(topic_word):\n",
    "    topic_words = np.array(short_term_list)[np.argsort(topic_dist)][:-n_top_words:-1]\n",
    "    print('Topic {}: {}'.format(i, ' '.join(topic_words)))"
   ]
  },
  {
   "cell_type": "markdown",
   "metadata": {},
   "source": [
    "----------"
   ]
  },
  {
   "cell_type": "markdown",
   "metadata": {},
   "source": [
    "# Tasks"
   ]
  },
  {
   "cell_type": "markdown",
   "metadata": {},
   "source": [
    "**Your name:** ..."
   ]
  },
  {
   "cell_type": "markdown",
   "metadata": {},
   "source": [
    "### Task 1\n",
    "\n",
    "..."
   ]
  },
  {
   "cell_type": "code",
   "execution_count": null,
   "metadata": {},
   "outputs": [],
   "source": [
    "# Add your code here"
   ]
  },
  {
   "cell_type": "markdown",
   "metadata": {},
   "source": [
    "**Answer:** [_Write your answer text here_]"
   ]
  },
  {
   "cell_type": "markdown",
   "metadata": {},
   "source": [
    "### Task 2\n",
    "\n",
    "..."
   ]
  },
  {
   "cell_type": "code",
   "execution_count": null,
   "metadata": {},
   "outputs": [],
   "source": [
    "# Add your code here"
   ]
  },
  {
   "cell_type": "markdown",
   "metadata": {},
   "source": [
    "### Task 3\n",
    "\n",
    "..."
   ]
  },
  {
   "cell_type": "code",
   "execution_count": null,
   "metadata": {},
   "outputs": [],
   "source": [
    "# Add your code here"
   ]
  },
  {
   "cell_type": "markdown",
   "metadata": {
    "collapsed": true
   },
   "source": [
    "**Answer:** [_Write your answer text here_]"
   ]
  },
  {
   "cell_type": "markdown",
   "metadata": {},
   "source": [
    "### Task 4\n",
    "\n",
    "..."
   ]
  },
  {
   "cell_type": "code",
   "execution_count": null,
   "metadata": {},
   "outputs": [],
   "source": [
    "# Add your code here"
   ]
  },
  {
   "cell_type": "markdown",
   "metadata": {
    "collapsed": true
   },
   "source": [
    "**Answer:** [_Write your answer text here_]"
   ]
  },
  {
   "cell_type": "markdown",
   "metadata": {},
   "source": [
    "### Task 5\n",
    "\n",
    "..."
   ]
  },
  {
   "cell_type": "code",
   "execution_count": null,
   "metadata": {},
   "outputs": [],
   "source": [
    "# Add your code here"
   ]
  }
 ],
 "metadata": {
  "kernelspec": {
   "display_name": "Python 3",
   "language": "python",
   "name": "python3"
  },
  "language_info": {
   "codemirror_mode": {
    "name": "ipython",
    "version": 3
   },
   "file_extension": ".py",
   "mimetype": "text/x-python",
   "name": "python",
   "nbconvert_exporter": "python",
   "pygments_lexer": "ipython3",
   "version": "3.6.3"
  }
 },
 "nbformat": 4,
 "nbformat_minor": 1
}
