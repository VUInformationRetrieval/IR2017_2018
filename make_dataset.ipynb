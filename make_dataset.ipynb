{
 "cells": [
  {
   "cell_type": "markdown",
   "metadata": {},
   "source": [
    "# Building the dataset of research papers"
   ]
  },
  {
   "cell_type": "markdown",
   "metadata": {},
   "source": [
    "The [Entrez](http://biopython.org/DIST/docs/api/Bio.Entrez-module.html) module, a part of the [Biopython](http://biopython.org/) library, will be used to interface with [PubMed](http://www.ncbi.nlm.nih.gov/pubmed).<br>\n",
    "You can download Biopython from [here](http://biopython.org/wiki/Download).\n",
    "\n",
    "In this notebook we will be covering several of the steps taken in the [Biopython Tutorial](http://biopython.org/DIST/docs/tutorial/Tutorial.html), specifically in [Chapter 9  Accessing NCBI’s Entrez databases](http://biopython.org/DIST/docs/tutorial/Tutorial.html#htoc109)."
   ]
  },
  {
   "cell_type": "code",
   "execution_count": 13,
   "metadata": {
    "collapsed": false
   },
   "outputs": [],
   "source": [
    "from Bio import Entrez\n",
    "\n",
    "# NCBI requires you to set your email address to make use of NCBI's E-utilities\n",
    "Entrez.email = \"Your.Name.Here@example.org\""
   ]
  },
  {
   "cell_type": "markdown",
   "metadata": {},
   "source": [
    "The datasets will be saved as serialized Python objects, compressed with bzip2.\n",
    "Saving/loading them will therefore require the [pickle](http://docs.python.org/3/library/pickle.html) and [bz2](http://docs.python.org/3/library/bz2.html) modules."
   ]
  },
  {
   "cell_type": "code",
   "execution_count": 14,
   "metadata": {
    "collapsed": false
   },
   "outputs": [],
   "source": [
    "import pickle, bz2, os"
   ]
  },
  {
   "cell_type": "markdown",
   "metadata": {},
   "source": [
    "## EInfo: Obtaining information about the Entrez databases"
   ]
  },
  {
   "cell_type": "code",
   "execution_count": 15,
   "metadata": {
    "collapsed": false
   },
   "outputs": [],
   "source": [
    "# accessing extended information about the PubMed database\n",
    "pubmed = Entrez.read( Entrez.einfo(db=\"pubmed\"), validate=False )[u'DbInfo']\n",
    "\n",
    "# list of possible search fields for use with ESearch:\n",
    "search_fields = { f['Name']:f['Description'] for f in pubmed[\"FieldList\"] }"
   ]
  },
  {
   "cell_type": "markdown",
   "metadata": {},
   "source": [
    "In search_fields, we find 'TIAB' ('Free text associated with Abstract/Title') as a possible search field to use in searches."
   ]
  },
  {
   "cell_type": "code",
   "execution_count": 16,
   "metadata": {
    "collapsed": false
   },
   "outputs": [
    {
     "data": {
      "text/plain": [
       "{'AFFL': \"Author's institutional affiliation and address\",\n",
       " 'ALL': 'All terms from all searchable fields',\n",
       " 'AUCL': 'Author Cluster ID',\n",
       " 'AUID': 'Author Identifier',\n",
       " 'AUTH': 'Author(s) of publication',\n",
       " 'BOOK': 'ID of the book that contains the document',\n",
       " 'CDAT': 'Date of completion',\n",
       " 'CNTY': 'Country of publication',\n",
       " 'COLN': 'Corporate Author of publication',\n",
       " 'CRDT': 'Date publication first accessible through Entrez',\n",
       " 'DSO': 'Additional text from the summary',\n",
       " 'ECNO': 'EC number for enzyme or CAS registry number',\n",
       " 'ED': \"Section's Editor\",\n",
       " 'EDAT': 'Date publication first accessible through Entrez',\n",
       " 'EID': 'Extended PMID',\n",
       " 'EPDT': 'Date of Electronic publication',\n",
       " 'FAUT': 'First Author of publication',\n",
       " 'FILT': 'Limits the records',\n",
       " 'FINV': 'Full name of investigator',\n",
       " 'FULL': 'Full Author Name(s) of publication',\n",
       " 'GRNT': 'NIH Grant Numbers',\n",
       " 'INVR': 'Investigator',\n",
       " 'ISBN': 'ISBN',\n",
       " 'ISS': 'Issue number of publication',\n",
       " 'JOUR': 'Journal abbreviation of publication',\n",
       " 'LANG': 'Language of publication',\n",
       " 'LAUT': 'Last Author of publication',\n",
       " 'LID': 'ELocation ID',\n",
       " 'MAJR': 'MeSH terms of major importance to publication',\n",
       " 'MDAT': 'Date of last modification',\n",
       " 'MESH': 'Medical Subject Headings assigned to publication',\n",
       " 'MHDA': 'Date publication was indexed with MeSH terms',\n",
       " 'OTRM': 'Other terms associated with publication',\n",
       " 'PAGE': 'Page number(s) of publication',\n",
       " 'PAPX': 'MeSH pharmacological action pre-explosions',\n",
       " 'PDAT': 'Date of publication',\n",
       " 'PID': 'Publisher ID',\n",
       " 'PPDT': 'Date of print publication',\n",
       " 'PS': 'Personal Name as Subject',\n",
       " 'PTYP': 'Type of publication (e.g., review)',\n",
       " 'PUBN': \"Publisher's name\",\n",
       " 'SI': 'Cross-reference from publication to other databases',\n",
       " 'SUBH': 'Additional specificity for MeSH term',\n",
       " 'SUBS': 'CAS chemical name or MEDLINE Substance Name',\n",
       " 'TIAB': 'Free text associated with Abstract/Title',\n",
       " 'TITL': 'Words in title of publication',\n",
       " 'TT': 'Words in transliterated title of publication',\n",
       " 'UID': 'Unique number assigned to publication',\n",
       " 'VOL': 'Volume number of publication',\n",
       " 'WORD': 'Free text associated with publication'}"
      ]
     },
     "execution_count": 16,
     "metadata": {},
     "output_type": "execute_result"
    }
   ],
   "source": [
    "search_fields"
   ]
  },
  {
   "cell_type": "markdown",
   "metadata": {},
   "source": [
    "## ESearch: Searching the Entrez databases"
   ]
  },
  {
   "cell_type": "markdown",
   "metadata": {},
   "source": [
    "To have a look at the kind of data we get when searching the database, we'll perform a search for papers authored by Haasdijk:"
   ]
  },
  {
   "cell_type": "code",
   "execution_count": 17,
   "metadata": {
    "collapsed": false
   },
   "outputs": [
    {
     "data": {
      "text/plain": [
       "{'RetStart': '0', 'TranslationSet': [], 'TranslationStack': [{'Field': 'Author', 'Explode': 'N', 'Count': '31', 'Term': 'Haasdijk E[Author]'}, 'GROUP'], 'QueryTranslation': 'Haasdijk E[Author]', 'RetMax': '20', 'IdList': ['26933487', '24977986', '24901702', '24852945', '24708899', '24252306', '23580075', '23144668', '22174697', '22154920', '21870131', '21760539', '20662596', '20602234', '20386726', '18579581', '18305242', '17913916', '17804640', '17686042'], 'Count': '31'}"
      ]
     },
     "execution_count": 17,
     "metadata": {},
     "output_type": "execute_result"
    }
   ],
   "source": [
    "example_authors = ['Haasdijk E']\n",
    "example_search = Entrez.read( Entrez.esearch( db=\"pubmed\", term=' AND '.join([a+'[AUTH]' for a in example_authors]) ) )\n",
    "example_search"
   ]
  },
  {
   "cell_type": "markdown",
   "metadata": {},
   "source": [
    "Note how the result being produced is not in Python's native string format:"
   ]
  },
  {
   "cell_type": "code",
   "execution_count": 18,
   "metadata": {
    "collapsed": false
   },
   "outputs": [
    {
     "data": {
      "text/plain": [
       "Bio.Entrez.Parser.StringElement"
      ]
     },
     "execution_count": 18,
     "metadata": {},
     "output_type": "execute_result"
    }
   ],
   "source": [
    "type( example_search['IdList'][0] )"
   ]
  },
  {
   "cell_type": "markdown",
   "metadata": {},
   "source": [
    "The part of the query's result we are most interested in is accessible through"
   ]
  },
  {
   "cell_type": "code",
   "execution_count": 19,
   "metadata": {
    "collapsed": false
   },
   "outputs": [
    {
     "name": "stdout",
     "output_type": "stream",
     "text": [
      "[26933487, 24977986, 24901702, 24852945, 24708899, 24252306, 23580075, 23144668, 22174697, 22154920, 21870131, 21760539, 20662596, 20602234, 20386726, 18579581, 18305242, 17913916, 17804640, 17686042]\n"
     ]
    }
   ],
   "source": [
    "example_ids = [ int(id) for id in example_search['IdList'] ]\n",
    "print(example_ids)"
   ]
  },
  {
   "cell_type": "markdown",
   "metadata": {},
   "source": [
    "### PubMed IDs dataset"
   ]
  },
  {
   "cell_type": "markdown",
   "metadata": {},
   "source": [
    "We will now assemble a dataset comprised of research articles containing the keyword \"evolution\", in either their titles or abstracts."
   ]
  },
  {
   "cell_type": "code",
   "execution_count": 20,
   "metadata": {
    "collapsed": false
   },
   "outputs": [],
   "source": [
    "search_term = 'malaria'"
   ]
  },
  {
   "cell_type": "code",
   "execution_count": 21,
   "metadata": {
    "collapsed": false
   },
   "outputs": [],
   "source": [
    "Ids_file = 'data/' + search_term + '__Ids.pkl.bz2'"
   ]
  },
  {
   "cell_type": "code",
   "execution_count": 22,
   "metadata": {
    "collapsed": false
   },
   "outputs": [
    {
     "name": "stdout",
     "output_type": "stream",
     "text": [
      "67028 documents contain the search term \"malaria\".\n"
     ]
    }
   ],
   "source": [
    "if os.path.exists( Ids_file ):\n",
    "    Ids = pickle.load( bz2.BZ2File( Ids_file, 'rb' ) )\n",
    "else:\n",
    "    # determine the number of hits for the search term\n",
    "    search = Entrez.read( Entrez.esearch( db=\"pubmed\", term=search_term+'[TIAB]', retmax=0 ) )\n",
    "    total = int( search['Count'] )\n",
    "    \n",
    "    # `Ids` will be incrementally assembled, by performing multiple queries,\n",
    "    # each returning at most `retrieve_per_query` entries.\n",
    "    Ids_str = []\n",
    "    retrieve_per_query = 10000\n",
    "    \n",
    "    for start in range( 0, total, retrieve_per_query ):\n",
    "        print('Fetching IDs of results [%d,%d]' % ( start, start+retrieve_per_query ) )\n",
    "        s = Entrez.read( Entrez.esearch( db=\"pubmed\", term=search_term+'[TIAB]', retstart=start, retmax=retrieve_per_query ) )\n",
    "        Ids_str.extend( s[ u'IdList' ] )\n",
    "    \n",
    "    # convert Ids to integers (and ensure that the conversion is reversible)\n",
    "    Ids = [ int(id) for id in Ids_str ]\n",
    "    \n",
    "    for (id_str, id_int) in zip(Ids_str, Ids):\n",
    "        if str(id_int) != id_str:\n",
    "            raise Exception('Conversion of PubMed ID %s from string to integer it not reversible.' % id_str )\n",
    "    \n",
    "    # Save list of Ids\n",
    "    pickle.dump( Ids, bz2.BZ2File( Ids_file, 'wb' ) )\n",
    "    \n",
    "total = len( Ids )\n",
    "print('%d documents contain the search term \"%s\".' % ( total, search_term ) )"
   ]
  },
  {
   "cell_type": "markdown",
   "metadata": {},
   "source": [
    "Taking a look at what we just retrieved, here are the last 5 elements of the `Ids` list:"
   ]
  },
  {
   "cell_type": "code",
   "execution_count": 23,
   "metadata": {
    "collapsed": false
   },
   "outputs": [
    {
     "data": {
      "text/plain": [
       "[27749938, 27749907, 27748596, 27748303, 27748294]"
      ]
     },
     "execution_count": 23,
     "metadata": {},
     "output_type": "execute_result"
    }
   ],
   "source": [
    "Ids[:5]"
   ]
  },
  {
   "cell_type": "markdown",
   "metadata": {},
   "source": [
    "## ESummary: Retrieving summaries from primary IDs"
   ]
  },
  {
   "cell_type": "markdown",
   "metadata": {},
   "source": [
    "To have a look at the kind of metadata we get from a call to `Entrez.esummary()`, we now fetch the summary of one of Haasdijk's papers (using one of the PubMed IDs we obtained in the previous section:"
   ]
  },
  {
   "cell_type": "code",
   "execution_count": 12,
   "metadata": {
    "collapsed": false
   },
   "outputs": [
    {
     "name": "stdout",
     "output_type": "stream",
     "text": [
      "RecordStatus\n",
      "\t Unknown status\n",
      "History\n",
      "\t {'received': '2016/06/09 00:00', 'pubmed': ['2016/10/18 06:00'], 'accepted': '2016/09/29 00:00', 'medline': ['2016/10/18 06:00']}\n",
      "DOI\n",
      "\t 10.1371/journal.pone.0164685\n",
      "ESSN\n",
      "\t 1932-6203\n",
      "AuthorList\n",
      "\t ['Adde A', 'Roux E', 'Mangeas M', 'Dessay N', 'Nacher M', 'Dusfour I', 'Girod R', 'Briolant S']\n",
      "PmcRefCount\n",
      "\t 0\n",
      "NlmUniqueID\n",
      "\t 101285081\n",
      "LastAuthor\n",
      "\t Briolant S\n",
      "References\n",
      "\t []\n",
      "LangList\n",
      "\t ['English']\n",
      "EPubDate\n",
      "\t 2016 Oct 17\n",
      "Source\n",
      "\t PLoS One\n",
      "PubStatus\n",
      "\t \n",
      "PubTypeList\n",
      "\t ['Journal Article']\n",
      "HasAbstract\n",
      "\t 1\n",
      "FullJournalName\n",
      "\t PloS one\n",
      "Item\n",
      "\t []\n",
      "PubDate\n",
      "\t 2016 Oct 17\n",
      "Pages\n",
      "\t e0164685\n",
      "Issue\n",
      "\t 10\n",
      "SO\n",
      "\t 2016 Oct 17;11(10):e0164685\n",
      "ELocationID\n",
      "\t doi: 10.1371/journal.pone.0164685\n",
      "Title\n",
      "\t Dynamical Mapping of Anopheles darlingi Densities in a Residual Malaria Transmission Area of French Guiana by Using Remote Sensing and Meteorological Data.\n",
      "ISSN\n",
      "\t \n",
      "ArticleIds\n",
      "\t {'eid': '27749938', 'pii': 'PONE-D-16-23217', 'pubmed': ['27749938'], 'rid': '27749938', 'medline': [], 'doi': '10.1371/journal.pone.0164685'}\n",
      "Id\n",
      "\t 27749938\n",
      "Volume\n",
      "\t 11\n"
     ]
    }
   ],
   "source": [
    "example_paper = Entrez.read( Entrez.esummary(db=\"pubmed\", id='27749938') )[0]\n",
    "\n",
    "def print_dict( p ):\n",
    "    for k,v in p.items():\n",
    "        print(k)\n",
    "        print('\\t', v)\n",
    "\n",
    "print_dict(example_paper)"
   ]
  },
  {
   "cell_type": "markdown",
   "metadata": {},
   "source": [
    "For now, we'll keep just some basic information for each paper: title, list of authors, publication year, and [DOI](https://en.wikipedia.org/wiki/Digital_object_identifier).\n",
    "\n",
    "In case you are not familiar with the DOI system, know that the paper above can be accessed through the link [http://dx.doi.org/10.1007/s12065-012-0071-x](http://dx.doi.org/10.1007/s12065-012-0071-x) (which is `http://dx.doi.org/` followed by the paper's DOI)."
   ]
  },
  {
   "cell_type": "code",
   "execution_count": 13,
   "metadata": {
    "collapsed": false
   },
   "outputs": [
    {
     "data": {
      "text/plain": [
       "('Dynamical Mapping of Anopheles darlingi Densities in a Residual Malaria Transmission Area of French Guiana by Using Remote Sensing and Meteorological Data.',\n",
       " ['Adde A', 'Roux E', 'Mangeas M', 'Dessay N', 'Nacher M', 'Dusfour I', 'Girod R', 'Briolant S'],\n",
       " 2016,\n",
       " '10.1371/journal.pone.0164685')"
      ]
     },
     "execution_count": 13,
     "metadata": {},
     "output_type": "execute_result"
    }
   ],
   "source": [
    "( example_paper['Title'], example_paper['AuthorList'], int(example_paper['PubDate'][:4]), example_paper['DOI'] )"
   ]
  },
  {
   "cell_type": "markdown",
   "metadata": {},
   "source": [
    "### Summaries dataset"
   ]
  },
  {
   "cell_type": "markdown",
   "metadata": {},
   "source": [
    "We are now ready to assemble a dataset containing the summaries of all the paper `Ids` we previously fetched.\n",
    "\n",
    "To reduce the memory footprint, and to ensure the saved datasets won't depend on Biopython being installed to be properly loaded, values returned by `Entrez.read()` will be converted to their corresponding native Python types. We start by defining a function for helping with the conversion of strings:"
   ]
  },
  {
   "cell_type": "code",
   "execution_count": 14,
   "metadata": {
    "collapsed": false
   },
   "outputs": [],
   "source": [
    "Summaries_file = 'data/' + search_term + '__Summaries.pkl.bz2'"
   ]
  },
  {
   "cell_type": "code",
   "execution_count": 15,
   "metadata": {
    "collapsed": false
   },
   "outputs": [
    {
     "name": "stdout",
     "output_type": "stream",
     "text": [
      "Fetching Summaries of results: \n",
      "\n",
      "0...................\n",
      "10000...................\n",
      "20000...................\n",
      "30000...................\n",
      "40000...................\n",
      "50000...................\n",
      "60000.............."
     ]
    }
   ],
   "source": [
    "if os.path.exists( Summaries_file ):\n",
    "    Summaries = pickle.load( bz2.BZ2File( Summaries_file, 'rb' ) )\n",
    "else:\n",
    "    # `Summaries` will be incrementally assembled, by performing multiple queries,\n",
    "    # each returning at most `retrieve_per_query` entries.\n",
    "    Summaries = []\n",
    "    retrieve_per_query = 500\n",
    "    \n",
    "    print('Fetching Summaries of results: ')\n",
    "    for start in range( 0, len(Ids), retrieve_per_query ):\n",
    "        if (start % 10000 == 0):\n",
    "            print('')\n",
    "            print(start, end='')\n",
    "        else:\n",
    "            print('.', end='')\n",
    "        \n",
    "        # build comma separated string with the ids at indexes [start, start+retrieve_per_query)\n",
    "        query_ids = ','.join( [ str(id) for id in Ids[ start : start+retrieve_per_query ] ] )\n",
    "        \n",
    "        s = Entrez.read( Entrez.esummary( db=\"pubmed\", id=query_ids ) )\n",
    "        \n",
    "        # out of the retrieved data, we will keep only a tuple (title, authors, year, DOI), associated with the paper's id.\n",
    "        # (all values converted to native Python formats)\n",
    "        f = [\n",
    "            ( int( p['Id'] ), (\n",
    "                str( p['Title'] ),\n",
    "                [ str(a) for a in p['AuthorList'] ],\n",
    "                int( p['PubDate'][:4] ),                # keeps just the publication year\n",
    "                str( p.get('DOI', '') )            # papers for which no DOI is available get an empty string in their place\n",
    "                ) )\n",
    "            for p in s\n",
    "            ]\n",
    "        Summaries.extend( f )\n",
    "    \n",
    "    # Save Summaries, as a dictionary indexed by Ids\n",
    "    Summaries = dict( Summaries )\n",
    "    \n",
    "    pickle.dump( Summaries, bz2.BZ2File( Summaries_file, 'wb' ) )"
   ]
  },
  {
   "cell_type": "markdown",
   "metadata": {},
   "source": [
    "Let us take a look at the first 3 retrieved summaries:"
   ]
  },
  {
   "cell_type": "code",
   "execution_count": 16,
   "metadata": {
    "collapsed": false
   },
   "outputs": [
    {
     "data": {
      "text/plain": [
       "{27748596: ('Identification of a potential anti-malarial drug candidate from a series of 2-aminopyrazines by optimization of aqueous solubility and potency across the parasite life-cycle.',\n",
       "  ['Le Manach C',\n",
       "   'Nchinda AT',\n",
       "   'Paquet T',\n",
       "   'Gonzalez Cabrera D',\n",
       "   'Younis Adam Y',\n",
       "   'Han Z',\n",
       "   'Bashyam S',\n",
       "   'Zabiulla M',\n",
       "   'Taylor D',\n",
       "   'Lawrence N',\n",
       "   'White KL',\n",
       "   'Charman SA',\n",
       "   'Waterson D',\n",
       "   'Witty MJ',\n",
       "   'Wittlin S',\n",
       "   'Botha ME',\n",
       "   'Nondaba SH',\n",
       "   'Reader J',\n",
       "   'Birkholtz LM',\n",
       "   'Jimenez-Diaz MB',\n",
       "   'Martínez-Martínez MS',\n",
       "   'Ferrer-Bazaga S',\n",
       "   'Angulo-Barturen I',\n",
       "   'Meister S',\n",
       "   'Antonova-Koch Y',\n",
       "   'Winzeler EA',\n",
       "   'Street LJ',\n",
       "   'Chibale K'],\n",
       "  2016,\n",
       "  '10.1021/acs.jmedchem.6b01265'),\n",
       " 27749907: ('Safety and Immunogenicity of Pfs25-EPA/Alhydrogel®, a Transmission Blocking Vaccine against Plasmodium falciparum: An Open Label Study in Malaria Naïve Adults.',\n",
       "  ['Talaat KR',\n",
       "   'Ellis RD',\n",
       "   'Hurd J',\n",
       "   'Hentrich A',\n",
       "   'Gabriel E',\n",
       "   'Hynes NA',\n",
       "   'Rausch KM',\n",
       "   'Zhu D',\n",
       "   'Muratova O',\n",
       "   'Herrera R',\n",
       "   'Anderson C',\n",
       "   'Jones D',\n",
       "   'Aebig J',\n",
       "   'Brockley S',\n",
       "   'MacDonald NJ',\n",
       "   'Wang X',\n",
       "   'Fay MP',\n",
       "   'Healy SA',\n",
       "   'Durbin AP',\n",
       "   'Narum DL',\n",
       "   'Wu Y',\n",
       "   'Duffy PE'],\n",
       "  2016,\n",
       "  '10.1371/journal.pone.0163144'),\n",
       " 27749938: ('Dynamical Mapping of Anopheles darlingi Densities in a Residual Malaria Transmission Area of French Guiana by Using Remote Sensing and Meteorological Data.',\n",
       "  ['Adde A',\n",
       "   'Roux E',\n",
       "   'Mangeas M',\n",
       "   'Dessay N',\n",
       "   'Nacher M',\n",
       "   'Dusfour I',\n",
       "   'Girod R',\n",
       "   'Briolant S'],\n",
       "  2016,\n",
       "  '10.1371/journal.pone.0164685')}"
      ]
     },
     "execution_count": 16,
     "metadata": {},
     "output_type": "execute_result"
    }
   ],
   "source": [
    "{ id : Summaries[id] for id in Ids[:3] }"
   ]
  },
  {
   "cell_type": "markdown",
   "metadata": {},
   "source": [
    "## EFetch: Downloading full records from Entrez"
   ]
  },
  {
   "cell_type": "markdown",
   "metadata": {},
   "source": [
    "`Entrez.efetch()` is the function that will allow us to obtain paper abstracts. Let us start by taking a look at the kind of data it returns when we query PubMed's database."
   ]
  },
  {
   "cell_type": "code",
   "execution_count": 17,
   "metadata": {
    "collapsed": false
   },
   "outputs": [],
   "source": [
    "q = Entrez.read( Entrez.efetch(db=\"pubmed\", id='27749938', retmode=\"xml\") )"
   ]
  },
  {
   "cell_type": "markdown",
   "metadata": {},
   "source": [
    "`q` is a list, with each member corresponding to a queried id. Because here we only queried for one id, its results are then in `q[0]`."
   ]
  },
  {
   "cell_type": "code",
   "execution_count": 18,
   "metadata": {
    "collapsed": false
   },
   "outputs": [
    {
     "data": {
      "text/plain": [
       "(Bio.Entrez.Parser.ListElement, 1)"
      ]
     },
     "execution_count": 18,
     "metadata": {},
     "output_type": "execute_result"
    }
   ],
   "source": [
    "type(q), len(q)"
   ]
  },
  {
   "cell_type": "markdown",
   "metadata": {},
   "source": [
    "At `q[0]` we find a dictionary containing two keys, the contents of which we print below."
   ]
  },
  {
   "cell_type": "code",
   "execution_count": 19,
   "metadata": {
    "collapsed": false
   },
   "outputs": [
    {
     "data": {
      "text/plain": [
       "(Bio.Entrez.Parser.DictionaryElement,\n",
       " dict_keys(['MedlineCitation', 'PubmedData']))"
      ]
     },
     "execution_count": 19,
     "metadata": {},
     "output_type": "execute_result"
    }
   ],
   "source": [
    "type(q[0]), q[0].keys()"
   ]
  },
  {
   "cell_type": "code",
   "execution_count": 20,
   "metadata": {
    "collapsed": false
   },
   "outputs": [
    {
     "name": "stdout",
     "output_type": "stream",
     "text": [
      "History\n",
      "\t [DictElement({'Year': '2016', 'Month': '6', 'Day': '9'}, attributes={'PubStatus': 'received'}), DictElement({'Year': '2016', 'Month': '9', 'Day': '29'}, attributes={'PubStatus': 'accepted'}), DictElement({'Hour': '6', 'Minute': '0', 'Year': '2016', 'Month': '10', 'Day': '18'}, attributes={'PubStatus': 'pubmed'}), DictElement({'Hour': '6', 'Minute': '0', 'Year': '2016', 'Month': '10', 'Day': '18'}, attributes={'PubStatus': 'medline'})]\n",
      "ArticleIdList\n",
      "\t [StringElement('27749938', attributes={'IdType': 'pubmed'}), StringElement('10.1371/journal.pone.0164685', attributes={'IdType': 'doi'}), StringElement('PONE-D-16-23217', attributes={'IdType': 'pii'})]\n",
      "PublicationStatus\n",
      "\t epublish\n"
     ]
    }
   ],
   "source": [
    "print_dict( q[0][ 'PubmedData' ] )"
   ]
  },
  {
   "cell_type": "markdown",
   "metadata": {},
   "source": [
    "The key `'MedlineCitation'` maps into another dictionary. In that dictionary, most of the information is contained under the key `'Article'`. To minimize the clutter, below we show the contents of `'MedlineCitation'` excluding its `'Article'` member, and below that we then show the contents of `'Article'`."
   ]
  },
  {
   "cell_type": "code",
   "execution_count": 21,
   "metadata": {
    "collapsed": false
   },
   "outputs": [
    {
     "name": "stdout",
     "output_type": "stream",
     "text": [
      "OtherID\n",
      "\t []\n",
      "DateRevised\n",
      "\t {'Year': '2016', 'Month': '10', 'Day': '18'}\n",
      "GeneralNote\n",
      "\t []\n",
      "OtherAbstract\n",
      "\t []\n",
      "DateCreated\n",
      "\t {'Year': '2016', 'Month': '10', 'Day': '17'}\n",
      "SpaceFlightMission\n",
      "\t []\n",
      "MedlineJournalInfo\n",
      "\t {'Country': 'United States', 'MedlineTA': 'PLoS One', 'NlmUniqueID': '101285081', 'ISSNLinking': '1932-6203'}\n",
      "CitationSubset\n",
      "\t []\n",
      "PMID\n",
      "\t 27749938\n",
      "KeywordList\n",
      "\t []\n"
     ]
    }
   ],
   "source": [
    "print_dict( { k:v for k,v in q[0][ 'MedlineCitation' ].items() if k!='Article' } )"
   ]
  },
  {
   "cell_type": "code",
   "execution_count": 22,
   "metadata": {
    "collapsed": false
   },
   "outputs": [
    {
     "name": "stdout",
     "output_type": "stream",
     "text": [
      "ArticleTitle\n",
      "\t Dynamical Mapping of Anopheles darlingi Densities in a Residual Malaria Transmission Area of French Guiana by Using Remote Sensing and Meteorological Data.\n",
      "Abstract\n",
      "\t {'AbstractText': [StringElement(\"Local variation in the density of Anopheles mosquitoes and the risk of exposure to bites are essential to explain the spatial and temporal heterogeneities in the transmission of malaria. Vector distribution is driven by environmental factors. Based on variables derived from satellite imagery and meteorological observations, this study aimed to dynamically model and map the densities of Anopheles darlingi in the municipality of Saint-Georges de l'Oyapock (French Guiana). Longitudinal sampling sessions of An. darlingi densities were conducted between September 2012 and October 2014. Landscape and meteorological data were collected and processed to extract a panel of variables that were potentially related to An. darlingi ecology. Based on these data, a robust methodology was formed to estimate a statistical predictive model of the spatial-temporal variations in the densities of An. darlingi in Saint-Georges de l'Oyapock. The final cross-validated model integrated two landscape variables-dense forest surface and built surface-together with four meteorological variables related to rainfall, evapotranspiration, and the minimal and maximal temperatures. Extrapolation of the model allowed the generation of predictive weekly maps of An. darlingi densities at a resolution of 10-m. Our results supported the use of satellite imagery and meteorological data to predict malaria vector densities. Such fine-scale modeling approach might be a useful tool for health authorities to plan control strategies and social communication in a cost-effective, targeted, and timely manner.\", attributes={'NlmCategory': 'UNASSIGNED'})]}\n",
      "PublicationTypeList\n",
      "\t [StringElement('JOURNAL ARTICLE', attributes={'UI': ''})]\n",
      "Journal\n",
      "\t {'ISOAbbreviation': 'PLoS ONE', 'Title': 'PloS one', 'JournalIssue': DictElement({'Issue': '10', 'PubDate': {'Year': '2016'}, 'Volume': '11'}, attributes={'CitedMedium': 'Internet'}), 'ISSN': StringElement('1932-6203', attributes={'IssnType': 'Electronic'})}\n",
      "ArticleDate\n",
      "\t [DictElement({'Year': '2016', 'Month': 'Oct', 'Day': '17'}, attributes={'DateType': 'Electronic'})]\n",
      "ELocationID\n",
      "\t [StringElement('10.1371/journal.pone.0164685', attributes={'ValidYN': 'Y', 'EIdType': 'doi'})]\n",
      "Pagination\n",
      "\t {'MedlinePgn': 'e0164685'}\n",
      "Language\n",
      "\t ['ENG']\n",
      "AuthorList\n",
      "\t ListElement([DictElement({'Identifier': [], 'AffiliationInfo': [{'Identifier': [], 'Affiliation': \"Unité d'Entomologie Médicale, Institut Pasteur de la Guyane, Cayenne, French Guiana.\"}], 'ForeName': 'Antoine', 'LastName': 'Adde', 'Initials': 'A'}, attributes={'ValidYN': 'Y'}), DictElement({'Identifier': [], 'AffiliationInfo': [{'Identifier': [], 'Affiliation': 'UMR ESPACE-DEV, Institut de Recherche pour le Développement, Montpellier, France.'}], 'ForeName': 'Emmanuel', 'LastName': 'Roux', 'Initials': 'E'}, attributes={'ValidYN': 'Y'}), DictElement({'Identifier': [], 'AffiliationInfo': [{'Identifier': [], 'Affiliation': 'UMR ESPACE-DEV, Institut de Recherche pour le Développement, Montpellier, France.'}], 'ForeName': 'Morgan', 'LastName': 'Mangeas', 'Initials': 'M'}, attributes={'ValidYN': 'Y'}), DictElement({'Identifier': [], 'AffiliationInfo': [{'Identifier': [], 'Affiliation': 'UMR ESPACE-DEV, Institut de Recherche pour le Développement, Montpellier, France.'}], 'ForeName': 'Nadine', 'LastName': 'Dessay', 'Initials': 'N'}, attributes={'ValidYN': 'Y'}), DictElement({'Identifier': [], 'AffiliationInfo': [{'Identifier': [], 'Affiliation': \"Centre d'Investigation Clinique et Epidémiologie Clinique Antilles Guyane, Centre hospitalier Andrée-Rosemon, Cayenne, French Guiana.\"}], 'ForeName': 'Mathieu', 'LastName': 'Nacher', 'Initials': 'M'}, attributes={'ValidYN': 'Y'}), DictElement({'Identifier': [], 'AffiliationInfo': [{'Identifier': [], 'Affiliation': \"Unité d'Entomologie Médicale, Institut Pasteur de la Guyane, Cayenne, French Guiana.\"}], 'ForeName': 'Isabelle', 'LastName': 'Dusfour', 'Initials': 'I'}, attributes={'ValidYN': 'Y'}), DictElement({'Identifier': [], 'AffiliationInfo': [{'Identifier': [], 'Affiliation': \"Unité d'Entomologie Médicale, Institut Pasteur de la Guyane, Cayenne, French Guiana.\"}], 'ForeName': 'Romain', 'LastName': 'Girod', 'Initials': 'R'}, attributes={'ValidYN': 'Y'}), DictElement({'Identifier': [], 'AffiliationInfo': [{'Identifier': [], 'Affiliation': \"Unité d'Entomologie Médicale, Institut Pasteur de la Guyane, Cayenne, French Guiana.\"}, {'Identifier': [], 'Affiliation': 'Direction Interarmées du Service de Santé en Guyane, Cayenne, French Guiana.'}, {'Identifier': [], 'Affiliation': \"Unité de Parasitologie et d'Entomologie Médicale, Institut de Recherche Biomédicale des Armées, Marseille, France.\"}, {'Identifier': [], 'Affiliation': 'Unité de Recherche en Maladies Infectieuses Tropicales Emergentes, Faculté de Médecine La Timone, Marseille, France.'}], 'ForeName': 'Sébastien', 'LastName': 'Briolant', 'Initials': 'S'}, attributes={'ValidYN': 'Y'})], attributes={'CompleteYN': 'Y', 'Type': 'authors'})\n"
     ]
    }
   ],
   "source": [
    "print_dict( q[0][ 'MedlineCitation' ][ 'Article' ] )"
   ]
  },
  {
   "cell_type": "markdown",
   "metadata": {},
   "source": [
    "A paper's abstract can therefore be accessed with:"
   ]
  },
  {
   "cell_type": "code",
   "execution_count": 23,
   "metadata": {
    "collapsed": false
   },
   "outputs": [
    {
     "data": {
      "text/plain": [
       "{27749938: \"Local variation in the density of Anopheles mosquitoes and the risk of exposure to bites are essential to explain the spatial and temporal heterogeneities in the transmission of malaria. Vector distribution is driven by environmental factors. Based on variables derived from satellite imagery and meteorological observations, this study aimed to dynamically model and map the densities of Anopheles darlingi in the municipality of Saint-Georges de l'Oyapock (French Guiana). Longitudinal sampling sessions of An. darlingi densities were conducted between September 2012 and October 2014. Landscape and meteorological data were collected and processed to extract a panel of variables that were potentially related to An. darlingi ecology. Based on these data, a robust methodology was formed to estimate a statistical predictive model of the spatial-temporal variations in the densities of An. darlingi in Saint-Georges de l'Oyapock. The final cross-validated model integrated two landscape variables-dense forest surface and built surface-together with four meteorological variables related to rainfall, evapotranspiration, and the minimal and maximal temperatures. Extrapolation of the model allowed the generation of predictive weekly maps of An. darlingi densities at a resolution of 10-m. Our results supported the use of satellite imagery and meteorological data to predict malaria vector densities. Such fine-scale modeling approach might be a useful tool for health authorities to plan control strategies and social communication in a cost-effective, targeted, and timely manner.\"}"
      ]
     },
     "execution_count": 23,
     "metadata": {},
     "output_type": "execute_result"
    }
   ],
   "source": [
    "{ int(q[0]['MedlineCitation']['PMID']) : str(q[0]['MedlineCitation']['Article']['Abstract']['AbstractText'][0]) }"
   ]
  },
  {
   "cell_type": "markdown",
   "metadata": {},
   "source": [
    "A paper for which no abstract is available will simply not contain the `'Abstract'` key in its `'Article'` dictionary:"
   ]
  },
  {
   "cell_type": "code",
   "execution_count": 24,
   "metadata": {
    "collapsed": false
   },
   "outputs": [
    {
     "name": "stdout",
     "output_type": "stream",
     "text": [
      "ArticleTitle\n",
      "\t EVOLUTION OF LOCOMOTIVES IN AMERICA.\n",
      "PublicationTypeList\n",
      "\t [StringElement('Journal Article', attributes={'UI': 'D016428'})]\n",
      "Journal\n",
      "\t {'ISOAbbreviation': 'Science', 'Title': 'Science (New York, N.Y.)', 'JournalIssue': DictElement({'Issue': '3', 'PubDate': {'Year': '1880', 'Month': 'Jul', 'Day': '17'}, 'Volume': '1'}, attributes={'CitedMedium': 'Print'}), 'ISSN': StringElement('0036-8075', attributes={'IssnType': 'Print'})}\n",
      "ArticleDate\n",
      "\t []\n",
      "ELocationID\n",
      "\t []\n",
      "Pagination\n",
      "\t {'MedlinePgn': '35'}\n",
      "Language\n",
      "\t ['ENG']\n"
     ]
    }
   ],
   "source": [
    "print_dict( Entrez.read( Entrez.efetch(db=\"pubmed\", id='17782550', retmode=\"xml\") )[0]['MedlineCitation']['Article'] )"
   ]
  },
  {
   "cell_type": "markdown",
   "metadata": {},
   "source": [
    "Some of the ids in our dataset refer to books from the [NCBI Bookshelf](http://www.ncbi.nlm.nih.gov/books/), a collection of freely available, downloadable, on-line versions of selected biomedical books. For such ids, `Entrez.efetch()` returns a slightly different structure, where the keys `[u'BookDocument', u'PubmedBookData']` take the place of the `[u'MedlineCitation', u'PubmedData']` keys we saw above.\n",
    "\n",
    "Here is an example of the data we obtain for the id corresponding to the book [The Social Biology of Microbial Communities](http://www.ncbi.nlm.nih.gov/books/NBK114831/):"
   ]
  },
  {
   "cell_type": "code",
   "execution_count": 25,
   "metadata": {
    "collapsed": false
   },
   "outputs": [],
   "source": [
    "r = Entrez.read( Entrez.efetch(db=\"pubmed\", id='24027805', retmode=\"xml\") )"
   ]
  },
  {
   "cell_type": "code",
   "execution_count": 26,
   "metadata": {
    "collapsed": false
   },
   "outputs": [
    {
     "name": "stdout",
     "output_type": "stream",
     "text": [
      "History\n",
      "\t [DictElement({'Hour': '6', 'Minute': '0', 'Year': '2013', 'Month': '9', 'Day': '13'}, attributes={'PubStatus': 'pubmed'}), DictElement({'Hour': '6', 'Minute': '0', 'Year': '2013', 'Month': '9', 'Day': '13'}, attributes={'PubStatus': 'medline'}), DictElement({'Hour': '6', 'Minute': '0', 'Year': '2013', 'Month': '9', 'Day': '13'}, attributes={'PubStatus': 'entrez'})]\n",
      "ArticleIdList\n",
      "\t [StringElement('24027805', attributes={'IdType': 'pubmed'})]\n",
      "PublicationStatus\n",
      "\t ppublish\n"
     ]
    }
   ],
   "source": [
    "print_dict( r[0][ 'PubmedBookData' ] )"
   ]
  },
  {
   "cell_type": "code",
   "execution_count": 27,
   "metadata": {
    "collapsed": false
   },
   "outputs": [
    {
     "name": "stdout",
     "output_type": "stream",
     "text": [
      "Sections\n",
      "\t [{'Section': [], 'SectionTitle': StringElement('THE NATIONAL ACADEMIES', attributes={'book': 'nap13500', 'part': 'fm.s1'})}, {'Section': [], 'SectionTitle': StringElement('PLANNING COMMITTEE FOR A WORKSHOP ON THE MICROBIOME IN HEALTH AND DISEASE', attributes={'book': 'nap13500', 'part': 'fm.s2'})}, {'Section': [], 'SectionTitle': StringElement('FORUM ON MICROBIAL THREATS', attributes={'book': 'nap13500', 'part': 'fm.s3'})}, {'Section': [], 'SectionTitle': StringElement('BOARD ON GLOBAL HEALTH', attributes={'book': 'nap13500', 'part': 'fm.s5'})}, {'Section': [], 'SectionTitle': StringElement('Reviewers', attributes={'book': 'nap13500', 'part': 'fm.s7'})}, {'Section': [], 'SectionTitle': StringElement('Acknowledgments', attributes={'book': 'nap13500', 'part': 'fm.ack'})}, {'Section': [], 'SectionTitle': StringElement('Workshop Overview', attributes={'book': 'nap13500', 'part': 'workshop'})}, {'Section': [], 'SectionTitle': StringElement('Appendixes', attributes={'book': 'nap13500', 'part': 'nap13500.appgroup1'})}]\n",
      "ItemList\n",
      "\t []\n",
      "PMID\n",
      "\t 24027805\n",
      "Abstract\n",
      "\t {'AbstractText': ['On March 6 and 7, 2012, the Institute of Medicine’s (IOM’s) Forum on Microbial Threats hosted a public workshop to explore the emerging science of the “social biology” of microbial communities. Workshop presentations and discussions embraced a wide spectrum of topics, experimental systems, and theoretical perspectives representative of the current, multifaceted exploration of the microbial frontier. Participants discussed ecological, evolutionary, and genetic factors contributing to the assembly, function, and stability of microbial communities; how microbial communities adapt and respond to environmental stimuli; theoretical and experimental approaches to advance this nascent field; and potential applications of knowledge gained from the study of microbial communities for the improvement of human, animal, plant, and ecosystem health and toward a deeper understanding of microbial diversity and evolution.'], 'CopyrightInformation': 'Copyright © 2012, National Academy of Sciences.'}\n",
      "LocationLabel\n",
      "\t []\n",
      "Book\n",
      "\t {'ELocationID': [], 'BookTitle': StringElement('The Social Biology of Microbial Communities: Workshop Summary', attributes={'book': 'nap13500'}), 'CollectionTitle': StringElement('The National Academies Collection: Reports funded by National Institutes of Health', attributes={'book': 'napcollect'}), 'Isbn': ['9780309264327', '0309264324'], 'Publisher': {'PublisherLocation': 'Washington (DC)', 'PublisherName': 'National Academies Press (US)'}, 'PubDate': {'Year': '2012'}, 'AuthorList': [ListElement([DictElement({'Identifier': [], 'AffiliationInfo': [], 'CollectiveName': 'Institute of Medicine (US) Forum on Microbial Threats'}, attributes={'ValidYN': 'Y'})], attributes={'Type': 'authors', 'CompleteYN': 'Y'})]}\n",
      "ArticleIdList\n",
      "\t [StringElement('NBK114831', attributes={'IdType': 'bookaccession'}), StringElement('10.17226/13500', attributes={'IdType': 'doi'})]\n",
      "AuthorList\n",
      "\t []\n",
      "Language\n",
      "\t ['eng']\n",
      "KeywordList\n",
      "\t []\n",
      "PublicationType\n",
      "\t [StringElement('Review', attributes={'UI': 'D016454'})]\n"
     ]
    }
   ],
   "source": [
    "print_dict( r[0][ 'BookDocument' ] )"
   ]
  },
  {
   "cell_type": "markdown",
   "metadata": {},
   "source": [
    "In a book from the NCBI Bookshelf, its abstract can then be accessed as such:"
   ]
  },
  {
   "cell_type": "code",
   "execution_count": 28,
   "metadata": {
    "collapsed": false
   },
   "outputs": [
    {
     "data": {
      "text/plain": [
       "{24027805: 'On March 6 and 7, 2012, the Institute of Medicine’s (IOM’s) Forum on Microbial Threats hosted a public workshop to explore the emerging science of the “social biology” of microbial communities. Workshop presentations and discussions embraced a wide spectrum of topics, experimental systems, and theoretical perspectives representative of the current, multifaceted exploration of the microbial frontier. Participants discussed ecological, evolutionary, and genetic factors contributing to the assembly, function, and stability of microbial communities; how microbial communities adapt and respond to environmental stimuli; theoretical and experimental approaches to advance this nascent field; and potential applications of knowledge gained from the study of microbial communities for the improvement of human, animal, plant, and ecosystem health and toward a deeper understanding of microbial diversity and evolution.'}"
      ]
     },
     "execution_count": 28,
     "metadata": {},
     "output_type": "execute_result"
    }
   ],
   "source": [
    "{ int(r[0]['BookDocument']['PMID']) : str(r[0]['BookDocument']['Abstract']['AbstractText'][0]) }"
   ]
  },
  {
   "cell_type": "markdown",
   "metadata": {},
   "source": [
    "### Abstracts dataset"
   ]
  },
  {
   "cell_type": "markdown",
   "metadata": {},
   "source": [
    "We can now assemble a dataset mapping paper ids to their abstracts."
   ]
  },
  {
   "cell_type": "code",
   "execution_count": 29,
   "metadata": {
    "collapsed": false
   },
   "outputs": [],
   "source": [
    "Abstracts_file = 'data/' + search_term + '__Abstracts.pkl.bz2'"
   ]
  },
  {
   "cell_type": "code",
   "execution_count": 30,
   "metadata": {
    "collapsed": false
   },
   "outputs": [
    {
     "name": "stdout",
     "output_type": "stream",
     "text": [
      "Fetching Abstracts of results: \n",
      "\n",
      "0...................\n",
      "10000...................\n",
      "20000...................\n",
      "30000...................\n",
      "40000...................\n",
      "50000...................\n",
      "60000.............."
     ]
    }
   ],
   "source": [
    "import http.client\n",
    "from collections import deque\n",
    "\n",
    "if os.path.exists( Abstracts_file ):\n",
    "    Abstracts = pickle.load( bz2.BZ2File( Abstracts_file, 'rb' ) )\n",
    "else:\n",
    "    # `Abstracts` will be incrementally assembled, by performing multiple queries,\n",
    "    # each returning at most `retrieve_per_query` entries.\n",
    "    Abstracts = deque()\n",
    "    retrieve_per_query = 500\n",
    "    \n",
    "    print('Fetching Abstracts of results: ')\n",
    "    for start in range( 0, len(Ids), retrieve_per_query ):\n",
    "        if (start % 10000 == 0):\n",
    "            print('')\n",
    "            print(start, end='')\n",
    "        else:\n",
    "            print('.', end='')\n",
    "        \n",
    "        # build comma separated string with the ids at indexes [start, start+retrieve_per_query)\n",
    "        query_ids = ','.join( [ str(id) for id in Ids[ start : start+retrieve_per_query ] ] )\n",
    "        \n",
    "        # issue requests to the server, until we get the full amount of data we expect\n",
    "        while True:\n",
    "            try:\n",
    "                s = Entrez.read( Entrez.efetch(db=\"pubmed\", id=query_ids, retmode=\"xml\" ) )\n",
    "            except http.client.IncompleteRead:\n",
    "                print('r', end='')\n",
    "                continue\n",
    "            break\n",
    "        \n",
    "        i = 0\n",
    "        for p in s:\n",
    "            abstr = ''\n",
    "            if 'MedlineCitation' in p:\n",
    "                pmid = p['MedlineCitation']['PMID']\n",
    "                if 'Abstract' in p['MedlineCitation']['Article']:\n",
    "                    abstr = p['MedlineCitation']['Article']['Abstract']['AbstractText'][0]\n",
    "            elif 'BookDocument' in p:\n",
    "                pmid = p['BookDocument']['PMID']\n",
    "                if 'Abstract' in p['BookDocument']:\n",
    "                    abstr = p['BookDocument']['Abstract']['AbstractText'][0]\n",
    "            else:\n",
    "                raise Exception('Unrecognized record type, for id %d (keys: %s)' % (Ids[start+i], str(p.keys())) )\n",
    "            \n",
    "            Abstracts.append( (int(pmid), str(abstr)) )\n",
    "            i += 1\n",
    "    \n",
    "    # Save Abstracts, as a dictionary indexed by Ids\n",
    "    Abstracts = dict( Abstracts )\n",
    "    \n",
    "    pickle.dump( Abstracts, bz2.BZ2File( Abstracts_file, 'wb' ) )"
   ]
  },
  {
   "cell_type": "markdown",
   "metadata": {},
   "source": [
    "Taking a look at one paper's abstract:"
   ]
  },
  {
   "cell_type": "code",
   "execution_count": 31,
   "metadata": {
    "collapsed": false
   },
   "outputs": [
    {
     "data": {
      "text/plain": [
       "\"Local variation in the density of Anopheles mosquitoes and the risk of exposure to bites are essential to explain the spatial and temporal heterogeneities in the transmission of malaria. Vector distribution is driven by environmental factors. Based on variables derived from satellite imagery and meteorological observations, this study aimed to dynamically model and map the densities of Anopheles darlingi in the municipality of Saint-Georges de l'Oyapock (French Guiana). Longitudinal sampling sessions of An. darlingi densities were conducted between September 2012 and October 2014. Landscape and meteorological data were collected and processed to extract a panel of variables that were potentially related to An. darlingi ecology. Based on these data, a robust methodology was formed to estimate a statistical predictive model of the spatial-temporal variations in the densities of An. darlingi in Saint-Georges de l'Oyapock. The final cross-validated model integrated two landscape variables-dense forest surface and built surface-together with four meteorological variables related to rainfall, evapotranspiration, and the minimal and maximal temperatures. Extrapolation of the model allowed the generation of predictive weekly maps of An. darlingi densities at a resolution of 10-m. Our results supported the use of satellite imagery and meteorological data to predict malaria vector densities. Such fine-scale modeling approach might be a useful tool for health authorities to plan control strategies and social communication in a cost-effective, targeted, and timely manner.\""
      ]
     },
     "execution_count": 31,
     "metadata": {},
     "output_type": "execute_result"
    }
   ],
   "source": [
    "Abstracts[27749938]"
   ]
  },
  {
   "cell_type": "markdown",
   "metadata": {},
   "source": [
    "## ELink: Searching for related items in NCBI Entrez"
   ]
  },
  {
   "cell_type": "markdown",
   "metadata": {},
   "source": [
    "To understand how to obtain paper citations with Entrez, we will first assemble a small set of PubMed IDs, and then query for their citations.\n",
    "To that end, we search here for papers published in the [PLOS Computational Biology](http://www.ploscompbiol.org/) journal (as before, having also the word \"malaria\" in either the title or abstract):"
   ]
  },
  {
   "cell_type": "code",
   "execution_count": 32,
   "metadata": {
    "collapsed": false
   },
   "outputs": [
    {
     "data": {
      "text/plain": [
       "['27509368', '27043913', '26890485', '26764905', '25590612', '25187979', '24465196', '24465193', '24348235', '24244127', '24204241', '24146604', '24130474', '23874190', '23785271', '23637586', '23637585', '23093922', '22615546', '22511852']"
      ]
     },
     "execution_count": 32,
     "metadata": {},
     "output_type": "execute_result"
    }
   ],
   "source": [
    "CA_search_term = search_term+'[TIAB] AND PLoS computational biology[JOUR]'\n",
    "CA_ids = Entrez.read( Entrez.esearch( db=\"pubmed\", term=CA_search_term ) )['IdList']\n",
    "CA_ids"
   ]
  },
  {
   "cell_type": "code",
   "execution_count": 33,
   "metadata": {
    "collapsed": false
   },
   "outputs": [
    {
     "data": {
      "text/plain": [
       "{'22511852': ('Evolution of the multi-domain structures of virulence genes in the human malaria parasite, Plasmodium falciparum.',\n",
       "  ['Buckee CO', 'Recker M'],\n",
       "  '2012',\n",
       "  'PLoS computational biology',\n",
       "  '10.1371/journal.pcbi.1002451'),\n",
       " '22615546': ('A spatial model of mosquito host-seeking behavior.',\n",
       "  ['Cummins B', 'Cortez R', 'Foppa IM', 'Walbeck J', 'Hyman JM'],\n",
       "  '2012',\n",
       "  'PLoS computational biology',\n",
       "  '10.1371/journal.pcbi.1002500'),\n",
       " '23093922': ('The dynamics of naturally acquired immunity to Plasmodium falciparum infection.',\n",
       "  ['Pinkevych M', 'Petravic J', 'Chelimo K', 'Kazura JW', 'Moormann AM', 'Davenport MP'],\n",
       "  '2012',\n",
       "  'PLoS computational biology',\n",
       "  '10.1371/journal.pcbi.1002729'),\n",
       " '23637585': ('Biomarker discovery by sparse canonical correlation analysis of complex clinical phenotypes of tuberculosis and malaria.',\n",
       "  ['Rousu J', 'Agranoff DD', 'Sodeinde O', 'Shawe-Taylor J', 'Fernandez-Reyes D'],\n",
       "  '2013',\n",
       "  'PLoS computational biology',\n",
       "  '10.1371/journal.pcbi.1003018'),\n",
       " '23637586': (\"Malaria's missing number: calculating the human component of R0 by a within-host mechanistic model of Plasmodium falciparum infection and transmission.\",\n",
       "  ['Johnston GL', 'Smith DL', 'Fidock DA'],\n",
       "  '2013',\n",
       "  'PLoS computational biology',\n",
       "  '10.1371/journal.pcbi.1003025'),\n",
       " '23785271': ('Modelling co-infection with malaria and lymphatic filariasis.',\n",
       "  ['Slater HC', 'Gambhir M', 'Parham PE', 'Michael E'],\n",
       "  '2013',\n",
       "  'PLoS computational biology',\n",
       "  '10.1371/journal.pcbi.1003096'),\n",
       " '23874190': ('Improving pharmacokinetic-pharmacodynamic modeling to investigate anti-infective chemotherapy with application to the current generation of antimalarial drugs.',\n",
       "  ['Kay K', 'Hastings IM'],\n",
       "  '2013',\n",
       "  'PLoS computational biology',\n",
       "  '10.1371/journal.pcbi.1003151'),\n",
       " '24130474': ('A network approach to analyzing highly recombinant malaria parasite genes.',\n",
       "  ['Larremore DB', 'Clauset A', 'Buckee CO'],\n",
       "  '2013',\n",
       "  'PLoS computational biology',\n",
       "  '10.1371/journal.pcbi.1003268'),\n",
       " '24146604': ('Prediction of the P. falciparum target space relevant to malaria drug discovery.',\n",
       "  ['Spitzmüller A', 'Mestres J'],\n",
       "  '2013',\n",
       "  'PLoS computational biology',\n",
       "  '10.1371/journal.pcbi.1003257'),\n",
       " '24204241': ('Natural, persistent oscillations in a spatial multi-strain disease system with application to dengue.',\n",
       "  ['Lourenço J', 'Recker M'],\n",
       "  '2013',\n",
       "  'PLoS computational biology',\n",
       "  '10.1371/journal.pcbi.1003308'),\n",
       " '24244127': ('Improving the modeling of disease data from the government surveillance system: a case study on malaria in the Brazilian Amazon.',\n",
       "  ['Valle D', 'Clark J'],\n",
       "  '2013',\n",
       "  'PLoS computational biology',\n",
       "  '10.1371/journal.pcbi.1003312'),\n",
       " '24348235': ('Inferring developmental stage composition from gene expression in human malaria.',\n",
       "  ['Joice R', 'Narasimhan V', 'Montgomery J', 'Sidhu AB', 'Oh K', 'Meyer E', 'Pierre-Louis W', 'Seydel K', 'Milner D', 'Williamson K', 'Wiegand R', 'Ndiaye D', 'Daily J', 'Wirth D', 'Taylor T', 'Huttenhower C', 'Marti M'],\n",
       "  '2013',\n",
       "  'PLoS computational biology',\n",
       "  '10.1371/journal.pcbi.1003392'),\n",
       " '24465193': ('Immune-mediated competition in rodent malaria is most likely caused by induced changes in innate immune clearance of merozoites.',\n",
       "  ['Santhanam J', 'Råberg L', 'Read AF', 'Savill NJ'],\n",
       "  '2014',\n",
       "  'PLoS computational biology',\n",
       "  '10.1371/journal.pcbi.1003416'),\n",
       " '24465196': ('Modeling within-host effects of drugs on Plasmodium falciparum transmission and prospects for malaria elimination.',\n",
       "  ['Johnston GL', 'Gething PW', 'Hay SI', 'Smith DL', 'Fidock DA'],\n",
       "  '2014',\n",
       "  'PLoS computational biology',\n",
       "  '10.1371/journal.pcbi.1003434'),\n",
       " '25187979': ('Seasonally dependent relationships between indicators of malaria transmission and disease provided by mathematical model simulations.',\n",
       "  ['Stuckey EM', 'Smith T', 'Chitnis N'],\n",
       "  '2014',\n",
       "  'PLoS computational biology',\n",
       "  '10.1371/journal.pcbi.1003812'),\n",
       " '25590612': ('The interaction between seasonality and pulsed interventions against malaria in their effects on the reproduction number.',\n",
       "  ['Griffin JT'],\n",
       "  '2015',\n",
       "  'PLoS computational biology',\n",
       "  '10.1371/journal.pcbi.1004057'),\n",
       " '26764905': ('Optimal Population-Level Infection Detection Strategies for Malaria Control and Elimination in a Spatial Model of Malaria Transmission.',\n",
       "  ['Gerardin J', 'Bever CA', 'Hamainza B', 'Miller JM', 'Eckhoff PA', 'Wenger EA'],\n",
       "  '2016',\n",
       "  'PLoS computational biology',\n",
       "  '10.1371/journal.pcbi.1004707'),\n",
       " '26890485': ('Quantifying Transmission Investment in Malaria Parasites.',\n",
       "  ['Greischar MA', 'Mideo N', 'Read AF', 'Bjørnstad ON'],\n",
       "  '2016',\n",
       "  'PLoS computational biology',\n",
       "  '10.1371/journal.pcbi.1004718'),\n",
       " '27043913': ('Identifying Malaria Transmission Foci for Elimination Using Human Mobility Data.',\n",
       "  ['Ruktanonchai NW', 'DeLeenheer P', 'Tatem AJ', 'Alegana VA', 'Caughlin TT', 'Zu Erbach-Schoenberg E', 'Lourenço C', 'Ruktanonchai CW', 'Smith DL'],\n",
       "  '2016',\n",
       "  'PLoS computational biology',\n",
       "  '10.1371/journal.pcbi.1004846'),\n",
       " '27509368': ('Malaria Incidence Rates from Time Series of 2-Wave Panel Surveys.',\n",
       "  ['Castro MC', 'Maheu-Giroux M', 'Chiyaka C', 'Singer BH'],\n",
       "  '2016',\n",
       "  'PLoS computational biology',\n",
       "  '10.1371/journal.pcbi.1005065')}"
      ]
     },
     "execution_count": 33,
     "metadata": {},
     "output_type": "execute_result"
    }
   ],
   "source": [
    "CA_summ = {\n",
    "    p['Id'] : ( p['Title'], p['AuthorList'], p['PubDate'][:4], p['FullJournalName'], p.get('DOI', '') )\n",
    "    for p in Entrez.read( Entrez.esummary(db=\"pubmed\", id=','.join( CA_ids )) )\n",
    "    }\n",
    "CA_summ"
   ]
  },
  {
   "cell_type": "markdown",
   "metadata": {},
   "source": [
    "Because we restricted our search to papers in an open-access journal, you can then follow their DOIs to freely access their PDFs at the journal's website."
   ]
  },
  {
   "cell_type": "markdown",
   "metadata": {},
   "source": [
    "We will now issue calls to `Entrez.elink()` using these PubMed IDs, to retrieve the IDs of papers that cite them.\n",
    "The database from which the IDs will be retrieved is [PubMed Central](http://www.ncbi.nlm.nih.gov/pmc/), a free digital database of full-text scientific literature in the biomedical and life sciences.\n",
    "\n",
    "A complete list of the kinds of links you can retrieve with `Entrez.elink()` can be found [here](http://eutils.ncbi.nlm.nih.gov/entrez/query/static/entrezlinks.html)."
   ]
  },
  {
   "cell_type": "code",
   "execution_count": 36,
   "metadata": {
    "collapsed": false
   },
   "outputs": [
    {
     "data": {
      "text/plain": [
       "[{'DbFrom': 'pubmed', 'IdList': ['22511852'], 'LinkSetDb': [{'DbTo': 'pmc', 'LinkName': 'pubmed_pmc_refs', 'Link': [{'Id': '4862716'}, {'Id': '4825093'}, {'Id': '4726288'}, {'Id': '4707858'}, {'Id': '4677286'}, {'Id': '4384290'}, {'Id': '4364229'}, {'Id': '4270465'}, {'Id': '3986854'}, {'Id': '3794903'}, {'Id': '3778436'}, {'Id': '3726600'}]}], 'LinkSetDbHistory': [], 'ERROR': []}]"
      ]
     },
     "execution_count": 36,
     "metadata": {},
     "output_type": "execute_result"
    }
   ],
   "source": [
    "CA_citing = {\n",
    "    id : Entrez.read( Entrez.elink(\n",
    "            cmd = \"neighbor\",               # ELink command mode: \"neighbor\", returns\n",
    "                                            #     a set of UIDs in `db` linked to the input UIDs in `dbfrom`.\n",
    "            dbfrom = \"pubmed\",              # Database containing the input UIDs: PubMed\n",
    "            db = \"pmc\",                     # Database from which to retrieve UIDs: PubMed Central\n",
    "            LinkName = \"pubmed_pmc_refs\",   # Name of the Entrez link to retrieve: \"pubmed_pmc_refs\", gets\n",
    "                                            #     \"Full-text articles in the PubMed Central Database that cite the current articles\"\n",
    "            from_uid = id                   # input UIDs\n",
    "            ) )\n",
    "    for id in CA_ids\n",
    "    }\n",
    "\n",
    "CA_citing['22511852']"
   ]
  },
  {
   "cell_type": "markdown",
   "metadata": {},
   "source": [
    "We have in `CA_citing[paper_id][0]['LinkSetDb'][0]['Link']` the list of papers citing `paper_id`. To get it as just a list of ids, we can do"
   ]
  },
  {
   "cell_type": "code",
   "execution_count": 40,
   "metadata": {
    "collapsed": false
   },
   "outputs": [
    {
     "data": {
      "text/plain": [
       "['4862716',\n",
       " '4825093',\n",
       " '4726288',\n",
       " '4707858',\n",
       " '4677286',\n",
       " '4384290',\n",
       " '4364229',\n",
       " '4270465',\n",
       " '3986854',\n",
       " '3794903',\n",
       " '3778436',\n",
       " '3726600']"
      ]
     },
     "execution_count": 40,
     "metadata": {},
     "output_type": "execute_result"
    }
   ],
   "source": [
    "cits = [ l['Id'] for l in CA_citing['22511852'][0]['LinkSetDb'][0]['Link'] ]\n",
    "cits"
   ]
  },
  {
   "cell_type": "markdown",
   "metadata": {},
   "source": [
    "However, one more step is needed, as what we have now are PubMed Central IDs, and not PubMed IDs. Their conversion can be achieved through an additional call to `Entrez.elink()`:"
   ]
  },
  {
   "cell_type": "code",
   "execution_count": 41,
   "metadata": {
    "collapsed": false
   },
   "outputs": [
    {
     "data": {
      "text/plain": [
       "[{'DbFrom': 'pmc', 'IdList': ['4862716', '4825093', '4726288', '4707858', '4677286', '4384290', '4364229', '4270465', '3986854', '3794903', '3778436', '3726600'], 'LinkSetDb': [{'DbTo': 'pubmed', 'LinkName': 'pmc_pubmed', 'Link': [{'Id': '26883585'}, {'Id': '26804201'}, {'Id': '26741401'}, {'Id': '26674193'}, {'Id': '26657042'}, {'Id': '25759421'}, {'Id': '25626688'}, {'Id': '25521112'}, {'Id': '24674301'}, {'Id': '24130474'}, {'Id': '24062941'}, {'Id': '23922996'}]}], 'LinkSetDbHistory': [], 'ERROR': []}]"
      ]
     },
     "execution_count": 41,
     "metadata": {},
     "output_type": "execute_result"
    }
   ],
   "source": [
    "cits_pm = Entrez.read( Entrez.elink( dbfrom=\"pmc\", db=\"pubmed\", LinkName=\"pmc_pubmed\", from_uid=\",\".join(cits)) )\n",
    "cits_pm"
   ]
  },
  {
   "cell_type": "code",
   "execution_count": 42,
   "metadata": {
    "collapsed": false
   },
   "outputs": [
    {
     "data": {
      "text/plain": [
       "{'3726600': '23922996',\n",
       " '3778436': '24062941',\n",
       " '3794903': '24130474',\n",
       " '3986854': '24674301',\n",
       " '4270465': '25521112',\n",
       " '4364229': '25626688',\n",
       " '4384290': '25759421',\n",
       " '4677286': '26657042',\n",
       " '4707858': '26674193',\n",
       " '4726288': '26741401',\n",
       " '4825093': '26804201',\n",
       " '4862716': '26883585'}"
      ]
     },
     "execution_count": 42,
     "metadata": {},
     "output_type": "execute_result"
    }
   ],
   "source": [
    "ids_map = { pmc_id : link['Id'] for (pmc_id,link) in zip(cits_pm[0]['IdList'], cits_pm[0]['LinkSetDb'][0]['Link']) }\n",
    "ids_map"
   ]
  },
  {
   "cell_type": "markdown",
   "metadata": {},
   "source": [
    "And to check these papers:"
   ]
  },
  {
   "cell_type": "code",
   "execution_count": 43,
   "metadata": {
    "collapsed": false
   },
   "outputs": [
    {
     "data": {
      "text/plain": [
       "{'23922996': ('Plasmodium falciparum var gene expression homogeneity as a marker of the host-parasite relationship under different levels of naturally acquired immunity to malaria.',\n",
       "  ['Warimwe GM', 'Recker M', 'Kiragu EW', 'Buckee CO', 'Wambua J', 'Musyoki JN', 'Marsh K', 'Bull PC'],\n",
       "  '2013',\n",
       "  'PloS one',\n",
       "  '10.1371/journal.pone.0070467'),\n",
       " '24062941': ('The antigenic switching network of Plasmodium falciparum and its implications for the immuno-epidemiology of malaria.',\n",
       "  ['Noble R', 'Christodoulou Z', 'Kyes S', 'Pinches R', 'Newbold CI', 'Recker M'],\n",
       "  '2013',\n",
       "  'eLife',\n",
       "  '10.7554/eLife.01074'),\n",
       " '24130474': ('A network approach to analyzing highly recombinant malaria parasite genes.',\n",
       "  ['Larremore DB', 'Clauset A', 'Buckee CO'],\n",
       "  '2013',\n",
       "  'PLoS computational biology',\n",
       "  '10.1371/journal.pcbi.1003268'),\n",
       " '24674301': ('Plasmodium falciparum antigenic variation: relationships between widespread endothelial activation, parasite PfEMP1 expression and severe malaria.',\n",
       "  ['Abdi AI', 'Fegan G', 'Muthui M', 'Kiragu E', 'Musyoki JN', 'Opiyo M', 'Marsh K', 'Warimwe GM', 'Bull PC'],\n",
       "  '2014',\n",
       "  'BMC infectious diseases',\n",
       "  '10.1186/1471-2334-14-170'),\n",
       " '25521112': ('Generation of antigenic diversity in Plasmodium falciparum by structured rearrangement of Var genes during mitosis.',\n",
       "  ['Claessens A', 'Hamilton WL', 'Kekre M', 'Otto TD', 'Faizullabhoy A', 'Rayner JC', 'Kwiatkowski D'],\n",
       "  '2014',\n",
       "  'PLoS genetics',\n",
       "  '10.1371/journal.pgen.1004812'),\n",
       " '25626688': ('MDAT- Aligning multiple domain arrangements.',\n",
       "  ['Kemena C', 'Bitard-Feildel T', 'Bornberg-Bauer E'],\n",
       "  '2015',\n",
       "  'BMC bioinformatics',\n",
       "  '10.1186/s12859-014-0442-7'),\n",
       " '25759421': ('Mastering malaria: what helps and what hurts.',\n",
       "  ['Gupta S'],\n",
       "  '2015',\n",
       "  'Proceedings of the National Academy of Sciences of the United States of America',\n",
       "  '10.1073/pnas.1501786112'),\n",
       " '26657042': ('Differential Plasmodium falciparum surface antigen expression among children with Malarial Retinopathy.',\n",
       "  ['Abdi AI', 'Kariuki SM', 'Muthui MK', 'Kivisi CA', 'Fegan G', 'Gitau E', 'Newton CR', 'Bull PC'],\n",
       "  '2015',\n",
       "  'Scientific reports',\n",
       "  '10.1038/srep18034'),\n",
       " '26674193': ('Maintenance of phenotypic diversity within a set of virulence encoding genes of the malaria parasite Plasmodium falciparum.',\n",
       "  ['Holding T', 'Recker M'],\n",
       "  '2015',\n",
       "  'Journal of the Royal Society, Interface',\n",
       "  '10.1098/rsif.2015.0848'),\n",
       " '26741401': ('The role of PfEMP1 as targets of naturally acquired immunity to childhood malaria: prospects for a vaccine.',\n",
       "  ['Bull PC', 'Abdi AI'],\n",
       "  '2016',\n",
       "  'Parasitology',\n",
       "  '10.1017/S0031182015001274'),\n",
       " '26804201': ('Global selection of Plasmodium falciparum virulence antigen expression by host antibodies.',\n",
       "  ['Abdi AI', 'Warimwe GM', 'Muthui MK', 'Kivisi CA', 'Kiragu EW', 'Fegan GW', 'Bull PC'],\n",
       "  '2016',\n",
       "  'Scientific reports',\n",
       "  '10.1038/srep19882'),\n",
       " '26883585': ('Serological Conservation of Parasite-Infected Erythrocytes Predicts Plasmodium falciparum Erythrocyte Membrane Protein 1 Gene Expression but Not Severity of Childhood Malaria.',\n",
       "  ['Warimwe GM', 'Abdi AI', 'Muthui M', 'Fegan G', 'Musyoki JN', 'Marsh K', 'Bull PC'],\n",
       "  '2016',\n",
       "  'Infection and immunity',\n",
       "  '10.1128/IAI.00772-15')}"
      ]
     },
     "execution_count": 43,
     "metadata": {},
     "output_type": "execute_result"
    }
   ],
   "source": [
    "{   p['Id'] : ( p['Title'], p['AuthorList'], p['PubDate'][:4], p['FullJournalName'], p.get('DOI', '') )\n",
    "    for p in Entrez.read( Entrez.esummary(db=\"pubmed\", id=','.join( ids_map.values() )) )\n",
    "    }"
   ]
  },
  {
   "cell_type": "markdown",
   "metadata": {},
   "source": [
    "### Citations dataset"
   ]
  },
  {
   "cell_type": "markdown",
   "metadata": {},
   "source": [
    "We have now seen all the steps required to assemble a dataset of citations to each of the papers in our dataset."
   ]
  },
  {
   "cell_type": "code",
   "execution_count": 24,
   "metadata": {
    "collapsed": false
   },
   "outputs": [],
   "source": [
    "Citations_file = 'data/' + search_term + '__Citations.pkl.bz2'\n",
    "Citations = []"
   ]
  },
  {
   "cell_type": "markdown",
   "metadata": {},
   "source": [
    "At least one server query will be issued per paper in `Ids`. Because NCBI allows for at most 3 queries per second (see [here](http://biopython.org/DIST/docs/api/Bio.Entrez-pysrc.html#_open)), this dataset will take a long time to assemble. Should you need to interrupt it for some reason, or the connection fail at some point, it is safe to just rerun the cell below until all data is collected."
   ]
  },
  {
   "cell_type": "code",
   "execution_count": 27,
   "metadata": {
    "collapsed": false
   },
   "outputs": [
    {
     "name": "stdout",
     "output_type": "stream",
     "text": [
      "......................................................................................\n",
      "30000....................................................................................................\n",
      "40000....................................................................................................\n",
      "50000....................................................................................................\n",
      "60000.......................................................................\n",
      " done.\n"
     ]
    }
   ],
   "source": [
    "import http.client\n",
    "\n",
    "if Citations == [] and os.path.exists( Citations_file ):\n",
    "    Citations = pickle.load( bz2.BZ2File( Citations_file, 'rb' ) )\n",
    "\n",
    "if len(Citations) < len(Ids):\n",
    "    \n",
    "    i = len(Citations)\n",
    "    checkpoint = len(Ids) / 10 + 1      # save to hard drive at every 10% of Ids fetched\n",
    "    \n",
    "    for pm_id in Ids[i:]:               # either starts from index 0, or resumes from where we previously left off\n",
    "        \n",
    "        while True:\n",
    "            try:\n",
    "                # query for papers archived in PubMed Central that cite the paper with PubMed ID `pm_id`\n",
    "                c = Entrez.read( Entrez.elink( dbfrom = \"pubmed\", db=\"pmc\", LinkName = \"pubmed_pmc_refs\", id=str(pm_id) ) )\n",
    "                \n",
    "                c = c[0]['LinkSetDb']\n",
    "                if len(c) == 0:\n",
    "                    # no citations found for the current paper\n",
    "                    c = []\n",
    "                else:\n",
    "                    c = [ l['Id'] for l in c[0]['Link'] ]\n",
    "                    \n",
    "                    # convert citations from PubMed Central IDs to PubMed IDs\n",
    "                    p = []\n",
    "                    retrieve_per_query = 500\n",
    "                    for start in range( 0, len(c), retrieve_per_query ):\n",
    "                        query_ids = ','.join( c[start : start+retrieve_per_query] )\n",
    "                        r = Entrez.read( Entrez.elink( dbfrom=\"pmc\", db=\"pubmed\", LinkName=\"pmc_pubmed\", from_uid=query_ids ) )\n",
    "                        # select the IDs. If no matching PubMed ID was found, [] is returned instead\n",
    "                        p.extend( [] if r[0]['LinkSetDb']==[] else [ int(link['Id']) for link in r[0]['LinkSetDb'][0]['Link'] ] )\n",
    "                    c = p\n",
    "            \n",
    "            except http.client.BadStatusLine:\n",
    "                # Presumably, the server closed the connection before sending a valid response. Retry until we have the data.\n",
    "                print('r')\n",
    "                continue\n",
    "            break\n",
    "        \n",
    "        Citations.append( (pm_id, c) )\n",
    "        if (i % 10000 == 0):\n",
    "            print('')\n",
    "            print(i, end='')\n",
    "        if (i % 100 == 0):\n",
    "            print('.', end='')\n",
    "        i += 1\n",
    "        \n",
    "        if i % checkpoint == 0:\n",
    "            print('\\tsaving at checkpoint', i)\n",
    "            pickle.dump( Citations, bz2.BZ2File( Citations_file, 'wb' ) )\n",
    "    \n",
    "    print('\\n done.')\n",
    "    \n",
    "    # Save Citations, as a dictionary indexed by Ids\n",
    "    Citations = dict( Citations )\n",
    "    \n",
    "    pickle.dump( Citations, bz2.BZ2File( Citations_file, 'wb' ) )"
   ]
  },
  {
   "cell_type": "markdown",
   "metadata": {},
   "source": [
    "To see that we have indeed obtained the data we expected, you can match the ids below, with the ids listed at the end of last section."
   ]
  },
  {
   "cell_type": "code",
   "execution_count": 29,
   "metadata": {
    "collapsed": false
   },
   "outputs": [
    {
     "data": {
      "text/plain": [
       "[27306566, 26456841, 25521112, 25368109, 25303095, 25122340]"
      ]
     },
     "execution_count": 29,
     "metadata": {},
     "output_type": "execute_result"
    }
   ],
   "source": [
    "Citations[24130474]"
   ]
  },
  {
   "cell_type": "markdown",
   "metadata": {},
   "source": [
    "## Where do we go from here?"
   ]
  },
  {
   "cell_type": "markdown",
   "metadata": {},
   "source": [
    "Running the code above generates multiple local files, containing the datasets we'll be working with. Loading them into memory is a matter of just issuing a call like<br>\n",
    "``data = pickle.load( bz2.BZ2File( data_file, 'rb' ) )``.\n",
    "\n",
    "The Entrez module will therefore no longer be needed, unless you wish to extend your data processing with additional information retrieved from PubMed.\n",
    "\n",
    "Should you be interested in looking at alternative ways to handle the data, have a look at the [sqlite3](http://docs.python.org/3/library/sqlite3.html) module included in Python's standard library, or [Pandas](http://pandas.pydata.org/), the Python Data Analysis Library."
   ]
  }
 ],
 "metadata": {
  "kernelspec": {
   "display_name": "Python 3",
   "language": "python",
   "name": "python3"
  },
  "language_info": {
   "codemirror_mode": {
    "name": "ipython",
    "version": 3
   },
   "file_extension": ".py",
   "mimetype": "text/x-python",
   "name": "python",
   "nbconvert_exporter": "python",
   "pygments_lexer": "ipython3",
   "version": "3.5.2+"
  }
 },
 "nbformat": 4,
 "nbformat_minor": 0
}
